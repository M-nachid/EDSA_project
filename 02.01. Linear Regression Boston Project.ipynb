{
 "cells": [
  {
   "cell_type": "markdown",
   "id": "04231a7a",
   "metadata": {},
   "source": [
    "# Linear Regression with Python "
   ]
  },
  {
   "cell_type": "markdown",
   "id": "b34555a3",
   "metadata": {},
   "source": [
    "## Setting Up the Working Environment\n",
    "Import the necessary packages for this project with their aliases.\n",
    "\n",
    "  1. Import pandas\n",
    "  2. Import numpy\n",
    "  3. Import matplotlib\n",
    "  4. Import seaborn\n",
    "  \n",
    "use this to render the plots in jupyter\n",
    "```python\n",
    "%matplotlib inline\n",
    "```"
   ]
  },
  {
   "cell_type": "code",
   "execution_count": 1,
   "id": "296a8561",
   "metadata": {},
   "outputs": [],
   "source": [
    "import pandas as pd\n",
    "import numpy as np\n",
    "import matplotlib.pyplot as plt\n",
    "import seaborn as sns\n",
    "%matplotlib inline"
   ]
  },
  {
   "cell_type": "markdown",
   "id": "7abfaccd",
   "metadata": {},
   "source": [
    "## Loading the Boston Housing Dataset  \n",
    "\n",
    "  - Housing Dataset is the in the datasets module from sklearn\n",
    "     1. Import datasets from sklearn\n",
    "     2. load the boston housing dataset\n",
    "     \n",
    "Syntax:\n",
    "```python\n",
    "# import datasets\n",
    "from sklearn import datasets\n",
    "# load boston housing dataset and call it boston\n",
    "boston = datasets.load_boston()\n",
    "```"
   ]
  },
  {
   "cell_type": "code",
   "execution_count": 2,
   "id": "23ec3243",
   "metadata": {},
   "outputs": [],
   "source": [
    "# Load the boston dataset \n",
    "from sklearn import datasets"
   ]
  },
  {
   "cell_type": "code",
   "execution_count": 3,
   "id": "1ab6e38b",
   "metadata": {},
   "outputs": [],
   "source": [
    "# load boston dataset \n",
    "boston = datasets.load_boston()"
   ]
  },
  {
   "cell_type": "markdown",
   "id": "5be3541d",
   "metadata": {},
   "source": [
    "#### Note:\n",
    "\n",
    "We can do the previous two steps in just one step like this\n",
    "```python\n",
    "from sklearn.datasets import load_boston\n",
    "```\n",
    "I am doing it in two steps for the purpose of teaching."
   ]
  },
  {
   "cell_type": "markdown",
   "id": "20268c7d",
   "metadata": {},
   "source": [
    "### Check the dataset\n",
    "\n",
    "Syntax:\n",
    "```python\n",
    "# Use dir() function\n",
    "dir(boston)\n",
    "# Or get the keys using the keys() method\n",
    "print(boston.keys())\n",
    "```"
   ]
  },
  {
   "cell_type": "code",
   "execution_count": null,
   "id": "e7cf9b43",
   "metadata": {},
   "outputs": [],
   "source": []
  },
  {
   "cell_type": "markdown",
   "id": "9e706dc8",
   "metadata": {},
   "source": [
    "### Dataset Description\n",
    "\n",
    "Before starting analysing the data, you need to get to know it first, know the variable names and what they. If you don't know what you have, how can you use it?\n",
    "\n",
    "Syntax:\n",
    "```python\n",
    "boston.DESCR\n",
    "# Use print() function to get a nice display\n",
    "print(boston.DESCR)\n",
    "```"
   ]
  },
  {
   "cell_type": "code",
   "execution_count": null,
   "id": "02e23dce",
   "metadata": {},
   "outputs": [],
   "source": []
  },
  {
   "cell_type": "markdown",
   "id": "538b1448",
   "metadata": {},
   "source": [
    "### Get the feature names\n",
    "\n",
    "  - Features or attributes are the independent (explanatory) variables.\n",
    "Syntax:\n",
    "```python\n",
    "boston.feature_names\n",
    "```"
   ]
  },
  {
   "cell_type": "code",
   "execution_count": null,
   "id": "3e2f9fd0",
   "metadata": {},
   "outputs": [],
   "source": []
  },
  {
   "cell_type": "markdown",
   "id": "b3ecd115",
   "metadata": {},
   "source": [
    "### Get the Data, and check the shape\n",
    "\n",
    "  - Data is the data points of features\n",
    "  \n",
    "Syntax: \n",
    "```python\n",
    "# Checking the data\n",
    "boston.data\n",
    "# Check the first few observations\n",
    "boston.data[:5, : ]\n",
    "# Checking the shape\n",
    "boston.data.shape\n",
    "```"
   ]
  },
  {
   "cell_type": "code",
   "execution_count": null,
   "id": "5533ed4e",
   "metadata": {},
   "outputs": [],
   "source": []
  },
  {
   "cell_type": "code",
   "execution_count": null,
   "id": "e13d8693",
   "metadata": {},
   "outputs": [],
   "source": []
  },
  {
   "cell_type": "markdown",
   "id": "6c858ab6",
   "metadata": {},
   "source": [
    "### Check the Target Variable, and The shape\n",
    "  - The **target** is the dependent, outcome, response variable.\n",
    "  \n",
    "Syntax:\n",
    "```python\n",
    "# target \n",
    "boston.target\n",
    "# Check the first 10 observations\n",
    "boston.target[:10]\n",
    "# Check the last 10 observations\n",
    "boston.target[-10:]\n",
    "# shape\n",
    "boston.shape\n",
    "```"
   ]
  },
  {
   "cell_type": "code",
   "execution_count": null,
   "id": "f9a56840",
   "metadata": {},
   "outputs": [],
   "source": []
  },
  {
   "cell_type": "markdown",
   "id": "91538799",
   "metadata": {},
   "source": [
    "### Check the Type of the Target and the Data\n",
    "\n",
    "Syntax:\n",
    "```python\n",
    "# The Target\n",
    "print(type(boston.target))\n",
    "# The Data\n",
    "print(type(boston.data))\n",
    "```"
   ]
  },
  {
   "cell_type": "code",
   "execution_count": null,
   "id": "405bbec8",
   "metadata": {},
   "outputs": [],
   "source": []
  },
  {
   "cell_type": "markdown",
   "id": "c0b01a49",
   "metadata": {},
   "source": [
    "### Renaming The Data and the Target Variable: \n",
    " \n",
    " - In accordance with the common scikit-learn practice, we rename the target (response) variable as __y__ (lowercase), and __X__ (Uppercase) for the features data.  \n",
    "  \n",
    " - After renaming the features data, you need to convert the array of data into a DataFrame object.\n",
    " \n",
    "Syntax:\n",
    "\n",
    "```python\n",
    "# Features data\n",
    "X = boston.data\n",
    "\n",
    "# Converting X into a DataFrame\n",
    "bost_df = pd.DataFrame(X, columns = boston.feature_names)\n",
    "# target variable data\n",
    "y = boston.target\n",
    "```"
   ]
  },
  {
   "cell_type": "code",
   "execution_count": null,
   "id": "0fdae842",
   "metadata": {},
   "outputs": [],
   "source": []
  },
  {
   "cell_type": "markdown",
   "id": "adef1794",
   "metadata": {},
   "source": [
    "___\n",
    "We are ready to start our analysis."
   ]
  },
  {
   "cell_type": "markdown",
   "id": "6c41bb0d",
   "metadata": {},
   "source": [
    "## Exploratory Data Analysis\n",
    "\n",
    "- EDA is a crucial step in any machine learning project."
   ]
  },
  {
   "cell_type": "code",
   "execution_count": null,
   "id": "00bcb3bb",
   "metadata": {},
   "outputs": [],
   "source": []
  },
  {
   "cell_type": "markdown",
   "id": "71a24e86",
   "metadata": {},
   "source": [
    "### Data Summary Statistics"
   ]
  },
  {
   "cell_type": "markdown",
   "id": "375ea458",
   "metadata": {},
   "source": [
    "### Visualization of the target variable\n",
    "\n",
    "Syntax:\n",
    "```python\n",
    "# Histogram of prices (this is the target of our dataset)\n",
    "plt.hist(boston.target,bins=50)\n",
    "\n",
    "#label\n",
    "plt.xlabel('Price in $1000s')\n",
    "plt.ylabel('Number of houses')\n",
    "```"
   ]
  },
  {
   "cell_type": "code",
   "execution_count": null,
   "id": "24782935",
   "metadata": {},
   "outputs": [],
   "source": []
  }
 ],
 "metadata": {
  "kernelspec": {
   "display_name": "Python 3",
   "language": "python",
   "name": "python3"
  },
  "language_info": {
   "codemirror_mode": {
    "name": "ipython",
    "version": 3
   },
   "file_extension": ".py",
   "mimetype": "text/x-python",
   "name": "python",
   "nbconvert_exporter": "python",
   "pygments_lexer": "ipython3",
   "version": "3.8.2"
  }
 },
 "nbformat": 4,
 "nbformat_minor": 5
}
