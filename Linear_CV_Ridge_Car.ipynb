{
 "cells": [
  {
   "cell_type": "markdown",
   "id": "a42419b9",
   "metadata": {},
   "source": [
    "# <center> Ridge Regression with sklearn_ Data AuTo"
   ]
  },
  {
   "cell_type": "markdown",
   "id": "a81e78bd",
   "metadata": {},
   "source": [
    "## Setting Up the Workspace"
   ]
  },
  {
   "cell_type": "code",
   "execution_count": 1,
   "id": "d51645d1",
   "metadata": {},
   "outputs": [],
   "source": [
    "import pandas as pd\n",
    "import numpy as np\n",
    "import seaborn as sns\n",
    "import matplotlib.pyplot as plt\n",
    "%matplotlib inline"
   ]
  },
  {
   "cell_type": "markdown",
   "id": "1bc4b0c1",
   "metadata": {},
   "source": [
    "## The Working data"
   ]
  },
  {
   "cell_type": "code",
   "execution_count": 2,
   "id": "ec27e99c",
   "metadata": {},
   "outputs": [
    {
     "data": {
      "text/html": [
       "<div>\n",
       "<style scoped>\n",
       "    .dataframe tbody tr th:only-of-type {\n",
       "        vertical-align: middle;\n",
       "    }\n",
       "\n",
       "    .dataframe tbody tr th {\n",
       "        vertical-align: top;\n",
       "    }\n",
       "\n",
       "    .dataframe thead th {\n",
       "        text-align: right;\n",
       "    }\n",
       "</style>\n",
       "<table border=\"1\" class=\"dataframe\">\n",
       "  <thead>\n",
       "    <tr style=\"text-align: right;\">\n",
       "      <th></th>\n",
       "      <th>mpg</th>\n",
       "      <th>cylinders</th>\n",
       "      <th>displacement</th>\n",
       "      <th>horsepower</th>\n",
       "      <th>weight</th>\n",
       "      <th>acceleration</th>\n",
       "      <th>year</th>\n",
       "      <th>origin</th>\n",
       "      <th>name</th>\n",
       "    </tr>\n",
       "  </thead>\n",
       "  <tbody>\n",
       "    <tr>\n",
       "      <th>0</th>\n",
       "      <td>18.0</td>\n",
       "      <td>8</td>\n",
       "      <td>307.0</td>\n",
       "      <td>130</td>\n",
       "      <td>3504</td>\n",
       "      <td>12.0</td>\n",
       "      <td>70</td>\n",
       "      <td>1</td>\n",
       "      <td>chevrolet chevelle malibu</td>\n",
       "    </tr>\n",
       "    <tr>\n",
       "      <th>1</th>\n",
       "      <td>15.0</td>\n",
       "      <td>8</td>\n",
       "      <td>350.0</td>\n",
       "      <td>165</td>\n",
       "      <td>3693</td>\n",
       "      <td>11.5</td>\n",
       "      <td>70</td>\n",
       "      <td>1</td>\n",
       "      <td>buick skylark 320</td>\n",
       "    </tr>\n",
       "    <tr>\n",
       "      <th>2</th>\n",
       "      <td>18.0</td>\n",
       "      <td>8</td>\n",
       "      <td>318.0</td>\n",
       "      <td>150</td>\n",
       "      <td>3436</td>\n",
       "      <td>11.0</td>\n",
       "      <td>70</td>\n",
       "      <td>1</td>\n",
       "      <td>plymouth satellite</td>\n",
       "    </tr>\n",
       "    <tr>\n",
       "      <th>3</th>\n",
       "      <td>16.0</td>\n",
       "      <td>8</td>\n",
       "      <td>304.0</td>\n",
       "      <td>150</td>\n",
       "      <td>3433</td>\n",
       "      <td>12.0</td>\n",
       "      <td>70</td>\n",
       "      <td>1</td>\n",
       "      <td>amc rebel sst</td>\n",
       "    </tr>\n",
       "    <tr>\n",
       "      <th>4</th>\n",
       "      <td>17.0</td>\n",
       "      <td>8</td>\n",
       "      <td>302.0</td>\n",
       "      <td>140</td>\n",
       "      <td>3449</td>\n",
       "      <td>10.5</td>\n",
       "      <td>70</td>\n",
       "      <td>1</td>\n",
       "      <td>ford torino</td>\n",
       "    </tr>\n",
       "  </tbody>\n",
       "</table>\n",
       "</div>"
      ],
      "text/plain": [
       "    mpg  cylinders  displacement horsepower  weight  acceleration  year  \\\n",
       "0  18.0          8         307.0        130    3504          12.0    70   \n",
       "1  15.0          8         350.0        165    3693          11.5    70   \n",
       "2  18.0          8         318.0        150    3436          11.0    70   \n",
       "3  16.0          8         304.0        150    3433          12.0    70   \n",
       "4  17.0          8         302.0        140    3449          10.5    70   \n",
       "\n",
       "   origin                       name  \n",
       "0       1  chevrolet chevelle malibu  \n",
       "1       1          buick skylark 320  \n",
       "2       1         plymouth satellite  \n",
       "3       1              amc rebel sst  \n",
       "4       1                ford torino  "
      ]
     },
     "execution_count": 2,
     "metadata": {},
     "output_type": "execute_result"
    }
   ],
   "source": [
    "data= pd.read_csv('C:/Users/moham/Desktop/Python/Data/auto.csv')\n",
    "data.head()"
   ]
  },
  {
   "cell_type": "code",
   "execution_count": 3,
   "id": "74798d68",
   "metadata": {},
   "outputs": [
    {
     "name": "stdout",
     "output_type": "stream",
     "text": [
      "<class 'pandas.core.frame.DataFrame'>\n",
      "RangeIndex: 397 entries, 0 to 396\n",
      "Data columns (total 9 columns):\n",
      " #   Column        Non-Null Count  Dtype  \n",
      "---  ------        --------------  -----  \n",
      " 0   mpg           397 non-null    float64\n",
      " 1   cylinders     397 non-null    int64  \n",
      " 2   displacement  397 non-null    float64\n",
      " 3   horsepower    397 non-null    object \n",
      " 4   weight        397 non-null    int64  \n",
      " 5   acceleration  397 non-null    float64\n",
      " 6   year          397 non-null    int64  \n",
      " 7   origin        397 non-null    int64  \n",
      " 8   name          397 non-null    object \n",
      "dtypes: float64(3), int64(4), object(2)\n",
      "memory usage: 28.0+ KB\n"
     ]
    }
   ],
   "source": [
    "data.info()"
   ]
  },
  {
   "cell_type": "markdown",
   "id": "687e9756",
   "metadata": {},
   "source": [
    "A data frame with 392 observations on the following 9 variables.\n",
    "\n",
    "__mpg__: miles per gallon\n",
    "\n",
    "__cylinders__: Number of cylinders between 4 and 8\n",
    "\n",
    "__displacement__: Engine displacement (cu. inches)\n",
    "\n",
    "__horsepower__: Engine horsepower\n",
    "\n",
    "__weight__: Vehicle weight (lbs.)\n",
    "\n",
    "__acceleration__: Time to accelerate from 0 to 60 mph (sec.)\n",
    "\n",
    "__year__: Model year (modulo 100)\n",
    "\n",
    "__origin__: Origin of car (1. American, 2. European, 3. Japanese)\n",
    "\n",
    "__name__: Vehicle name\n",
    "\n",
    "The orginal data contained 408 observations but 16 observations with missing values were removed."
   ]
  },
  {
   "cell_type": "code",
   "execution_count": 4,
   "id": "0d2d0733",
   "metadata": {},
   "outputs": [
    {
     "data": {
      "text/plain": [
       "(397, 9)"
      ]
     },
     "execution_count": 4,
     "metadata": {},
     "output_type": "execute_result"
    }
   ],
   "source": [
    "data.shape"
   ]
  },
  {
   "cell_type": "code",
   "execution_count": 5,
   "id": "1156d53a",
   "metadata": {},
   "outputs": [
    {
     "data": {
      "text/html": [
       "<div>\n",
       "<style scoped>\n",
       "    .dataframe tbody tr th:only-of-type {\n",
       "        vertical-align: middle;\n",
       "    }\n",
       "\n",
       "    .dataframe tbody tr th {\n",
       "        vertical-align: top;\n",
       "    }\n",
       "\n",
       "    .dataframe thead th {\n",
       "        text-align: right;\n",
       "    }\n",
       "</style>\n",
       "<table border=\"1\" class=\"dataframe\">\n",
       "  <thead>\n",
       "    <tr style=\"text-align: right;\">\n",
       "      <th></th>\n",
       "      <th>count</th>\n",
       "      <th>mean</th>\n",
       "      <th>std</th>\n",
       "      <th>min</th>\n",
       "      <th>25%</th>\n",
       "      <th>50%</th>\n",
       "      <th>75%</th>\n",
       "      <th>max</th>\n",
       "    </tr>\n",
       "  </thead>\n",
       "  <tbody>\n",
       "    <tr>\n",
       "      <th>mpg</th>\n",
       "      <td>397.0</td>\n",
       "      <td>23.515869</td>\n",
       "      <td>7.825804</td>\n",
       "      <td>9.0</td>\n",
       "      <td>17.5</td>\n",
       "      <td>23.0</td>\n",
       "      <td>29.0</td>\n",
       "      <td>46.6</td>\n",
       "    </tr>\n",
       "    <tr>\n",
       "      <th>cylinders</th>\n",
       "      <td>397.0</td>\n",
       "      <td>5.458438</td>\n",
       "      <td>1.701577</td>\n",
       "      <td>3.0</td>\n",
       "      <td>4.0</td>\n",
       "      <td>4.0</td>\n",
       "      <td>8.0</td>\n",
       "      <td>8.0</td>\n",
       "    </tr>\n",
       "    <tr>\n",
       "      <th>displacement</th>\n",
       "      <td>397.0</td>\n",
       "      <td>193.532746</td>\n",
       "      <td>104.379583</td>\n",
       "      <td>68.0</td>\n",
       "      <td>104.0</td>\n",
       "      <td>146.0</td>\n",
       "      <td>262.0</td>\n",
       "      <td>455.0</td>\n",
       "    </tr>\n",
       "    <tr>\n",
       "      <th>weight</th>\n",
       "      <td>397.0</td>\n",
       "      <td>2970.261965</td>\n",
       "      <td>847.904119</td>\n",
       "      <td>1613.0</td>\n",
       "      <td>2223.0</td>\n",
       "      <td>2800.0</td>\n",
       "      <td>3609.0</td>\n",
       "      <td>5140.0</td>\n",
       "    </tr>\n",
       "    <tr>\n",
       "      <th>acceleration</th>\n",
       "      <td>397.0</td>\n",
       "      <td>15.555668</td>\n",
       "      <td>2.749995</td>\n",
       "      <td>8.0</td>\n",
       "      <td>13.8</td>\n",
       "      <td>15.5</td>\n",
       "      <td>17.1</td>\n",
       "      <td>24.8</td>\n",
       "    </tr>\n",
       "    <tr>\n",
       "      <th>year</th>\n",
       "      <td>397.0</td>\n",
       "      <td>75.994962</td>\n",
       "      <td>3.690005</td>\n",
       "      <td>70.0</td>\n",
       "      <td>73.0</td>\n",
       "      <td>76.0</td>\n",
       "      <td>79.0</td>\n",
       "      <td>82.0</td>\n",
       "    </tr>\n",
       "    <tr>\n",
       "      <th>origin</th>\n",
       "      <td>397.0</td>\n",
       "      <td>1.574307</td>\n",
       "      <td>0.802549</td>\n",
       "      <td>1.0</td>\n",
       "      <td>1.0</td>\n",
       "      <td>1.0</td>\n",
       "      <td>2.0</td>\n",
       "      <td>3.0</td>\n",
       "    </tr>\n",
       "  </tbody>\n",
       "</table>\n",
       "</div>"
      ],
      "text/plain": [
       "              count         mean         std     min     25%     50%     75%  \\\n",
       "mpg           397.0    23.515869    7.825804     9.0    17.5    23.0    29.0   \n",
       "cylinders     397.0     5.458438    1.701577     3.0     4.0     4.0     8.0   \n",
       "displacement  397.0   193.532746  104.379583    68.0   104.0   146.0   262.0   \n",
       "weight        397.0  2970.261965  847.904119  1613.0  2223.0  2800.0  3609.0   \n",
       "acceleration  397.0    15.555668    2.749995     8.0    13.8    15.5    17.1   \n",
       "year          397.0    75.994962    3.690005    70.0    73.0    76.0    79.0   \n",
       "origin        397.0     1.574307    0.802549     1.0     1.0     1.0     2.0   \n",
       "\n",
       "                 max  \n",
       "mpg             46.6  \n",
       "cylinders        8.0  \n",
       "displacement   455.0  \n",
       "weight        5140.0  \n",
       "acceleration    24.8  \n",
       "year            82.0  \n",
       "origin           3.0  "
      ]
     },
     "execution_count": 5,
     "metadata": {},
     "output_type": "execute_result"
    }
   ],
   "source": [
    "data.describe().T"
   ]
  },
  {
   "cell_type": "code",
   "execution_count": 6,
   "id": "f8088499",
   "metadata": {},
   "outputs": [
    {
     "data": {
      "text/plain": [
       "ford pinto             6\n",
       "amc matador            5\n",
       "ford maverick          5\n",
       "toyota corolla         5\n",
       "toyota corona          4\n",
       "                      ..\n",
       "chevrolet monza 2+2    1\n",
       "ford mustang ii        1\n",
       "pontiac astro          1\n",
       "amc pacer              1\n",
       "chevy s-10             1\n",
       "Name: name, Length: 304, dtype: int64"
      ]
     },
     "execution_count": 6,
     "metadata": {},
     "output_type": "execute_result"
    }
   ],
   "source": [
    "data['name'].value_counts()"
   ]
  },
  {
   "cell_type": "code",
   "execution_count": 7,
   "id": "d9ca2bb2",
   "metadata": {},
   "outputs": [
    {
     "data": {
      "text/plain": [
       "Index(['mpg', 'cylinders', 'displacement', 'horsepower', 'weight',\n",
       "       'acceleration', 'year', 'origin', 'name'],\n",
       "      dtype='object')"
      ]
     },
     "execution_count": 7,
     "metadata": {},
     "output_type": "execute_result"
    }
   ],
   "source": [
    "data.columns"
   ]
  },
  {
   "cell_type": "code",
   "execution_count": 8,
   "id": "2130282d",
   "metadata": {},
   "outputs": [],
   "source": [
    "X=data[['cylinders', 'displacement', 'weight','acceleration']]\n",
    "y=data['mpg']"
   ]
  },
  {
   "cell_type": "markdown",
   "id": "ecf13209",
   "metadata": {},
   "source": [
    "# Linear Regression"
   ]
  },
  {
   "cell_type": "code",
   "execution_count": 9,
   "id": "a365679b",
   "metadata": {},
   "outputs": [],
   "source": [
    "# Import Linear Regression, and cross_val_score\n",
    "from sklearn.linear_model import LinearRegression\n",
    "from sklearn.model_selection import train_test_split\n",
    "from sklearn.model_selection import cross_val_score"
   ]
  },
  {
   "cell_type": "code",
   "execution_count": 10,
   "id": "6a1d78c8",
   "metadata": {},
   "outputs": [],
   "source": [
    "Lreg= LinearRegression()"
   ]
  },
  {
   "cell_type": "code",
   "execution_count": 11,
   "id": "aa820094",
   "metadata": {},
   "outputs": [
    {
     "data": {
      "text/plain": [
       "LinearRegression()"
      ]
     },
     "execution_count": 11,
     "metadata": {},
     "output_type": "execute_result"
    }
   ],
   "source": [
    "Lreg.fit(X, y)"
   ]
  },
  {
   "cell_type": "code",
   "execution_count": 12,
   "id": "86734591",
   "metadata": {},
   "outputs": [
    {
     "data": {
      "text/html": [
       "<div>\n",
       "<style scoped>\n",
       "    .dataframe tbody tr th:only-of-type {\n",
       "        vertical-align: middle;\n",
       "    }\n",
       "\n",
       "    .dataframe tbody tr th {\n",
       "        vertical-align: top;\n",
       "    }\n",
       "\n",
       "    .dataframe thead th {\n",
       "        text-align: right;\n",
       "    }\n",
       "</style>\n",
       "<table border=\"1\" class=\"dataframe\">\n",
       "  <thead>\n",
       "    <tr style=\"text-align: right;\">\n",
       "      <th></th>\n",
       "      <th>Variable</th>\n",
       "      <th>coef</th>\n",
       "    </tr>\n",
       "  </thead>\n",
       "  <tbody>\n",
       "    <tr>\n",
       "      <th>0</th>\n",
       "      <td>cylinders</td>\n",
       "      <td>-0.272640</td>\n",
       "    </tr>\n",
       "    <tr>\n",
       "      <th>1</th>\n",
       "      <td>displacement</td>\n",
       "      <td>-0.006973</td>\n",
       "    </tr>\n",
       "    <tr>\n",
       "      <th>2</th>\n",
       "      <td>weight</td>\n",
       "      <td>-0.006142</td>\n",
       "    </tr>\n",
       "    <tr>\n",
       "      <th>3</th>\n",
       "      <td>acceleration</td>\n",
       "      <td>0.178213</td>\n",
       "    </tr>\n",
       "  </tbody>\n",
       "</table>\n",
       "</div>"
      ],
      "text/plain": [
       "       Variable      coef\n",
       "0     cylinders -0.272640\n",
       "1  displacement -0.006973\n",
       "2        weight -0.006142\n",
       "3  acceleration  0.178213"
      ]
     },
     "execution_count": 12,
     "metadata": {},
     "output_type": "execute_result"
    }
   ],
   "source": [
    "coef= pd.DataFrame(list(zip(data.iloc[:, np.r_[1:3, 4:6]], Lreg.coef_)),\n",
    "                       columns=['Variable',\"coef\"])\n",
    "coef"
   ]
  },
  {
   "cell_type": "code",
   "execution_count": 13,
   "id": "0aab80f6",
   "metadata": {
    "scrolled": true
   },
   "outputs": [
    {
     "name": "stdout",
     "output_type": "stream",
     "text": [
      "The model intercept value is 41.8258\n"
     ]
    }
   ],
   "source": [
    "print(\"The model intercept value is {:.4f}\".format(Lreg.intercept_))"
   ]
  },
  {
   "cell_type": "markdown",
   "id": "371eea76",
   "metadata": {},
   "source": [
    "# Prediction on training and testing sets LM"
   ]
  },
  {
   "cell_type": "code",
   "execution_count": 14,
   "id": "8bbd2928",
   "metadata": {},
   "outputs": [],
   "source": [
    "X_train, X_test, y_train, y_test = \\\n",
    "                               train_test_split(X, y, test_size=0.25, random_state=1711)"
   ]
  },
  {
   "cell_type": "code",
   "execution_count": 15,
   "id": "f0bf1302",
   "metadata": {},
   "outputs": [
    {
     "data": {
      "text/plain": [
       "LinearRegression()"
      ]
     },
     "execution_count": 15,
     "metadata": {},
     "output_type": "execute_result"
    }
   ],
   "source": [
    "lm_TTS=LinearRegression()\n",
    "lm_TTS.fit(X_train, y_train)"
   ]
  },
  {
   "cell_type": "code",
   "execution_count": 16,
   "id": "090731b9",
   "metadata": {},
   "outputs": [],
   "source": [
    "# Predict on train set\n",
    "pred_train = lm_TTS.predict(X_train)\n",
    "# Predict on test set\n",
    "pred_test = lm_TTS.predict(X_test)"
   ]
  },
  {
   "cell_type": "code",
   "execution_count": 17,
   "id": "199c5f1d",
   "metadata": {},
   "outputs": [],
   "source": [
    "from sklearn.metrics import mean_squared_error, r2_score, mean_absolute_error, make_scorer"
   ]
  },
  {
   "cell_type": "code",
   "execution_count": 18,
   "id": "7c1ef9ab",
   "metadata": {},
   "outputs": [
    {
     "name": "stdout",
     "output_type": "stream",
     "text": [
      "The R^2 on the train set is: 0.6098\n",
      "The R^2 on the test set is: 0.2364\n",
      "The RMSE on the train set is: 4.0767\n",
      "The RMSE on the test set is: 4.8950\n",
      "The MAE on the train set is: 1.7600\n",
      "The MAE on the test set is: 1.9248\n"
     ]
    }
   ],
   "source": [
    "print(\"The R^2 on the train set is: {:.4f}\".format(r2_score(pred_train, y_train)))\n",
    "print(\"The R^2 on the test set is: {:.4f}\".format(r2_score(pred_test, y_test)))\n",
    "print(\"The RMSE on the train set is: {:.4f}\".\\\n",
    "      format(np.sqrt(mean_squared_error(y_train, pred_train))))\n",
    "print(\"The RMSE on the test set is: {:.4f}\".\\\n",
    "      format(np.sqrt(mean_squared_error(y_test, pred_test))))\n",
    "print(\"The MAE on the train set is: {:.4f}\".\\\n",
    "      format(np.sqrt(mean_absolute_error(y_train, pred_train))))\n",
    "print(\"The MAE on the test set is: {:.4f}\".\\\n",
    "      format(np.sqrt(mean_absolute_error(y_test, pred_test))))"
   ]
  },
  {
   "cell_type": "code",
   "execution_count": 19,
   "id": "c7dea294",
   "metadata": {},
   "outputs": [],
   "source": [
    "# calculate the residuals\n",
    "resid_train = y_train - pred_train\n",
    "resid_test = y_test - pred_test"
   ]
  },
  {
   "cell_type": "code",
   "execution_count": 20,
   "id": "7f6a3423",
   "metadata": {},
   "outputs": [
    {
     "data": {
      "image/png": "[encoded data removed]",
      "text/plain": [
       "<Figure size 864x432 with 1 Axes>"
      ]
     },
     "metadata": {
      "needs_background": "light"
     },
     "output_type": "display_data"
    }
   ],
   "source": [
    "# Scatter plot the training data\n",
    "plt.figure(figsize= (12, 6))\n",
    "train = plt.scatter(x = pred_train, y = resid_train , c = 'b', alpha=0.5)\n",
    "\n",
    "# Scatter plot the testing data\n",
    "test = plt.scatter(pred_test, resid_test , c = 'r', alpha=0.5)\n",
    "\n",
    "# Plot a horizontal axis line at 0\n",
    "plt.hlines(y = 0, xmin = -10, xmax = 50)\n",
    "\n",
    "# Labels\n",
    "plt.legend((train, test), ('Training','Test'), loc='upper left')\n",
    "plt.title('Residual Plots')\n",
    "plt.show()"
   ]
  },
  {
   "cell_type": "markdown",
   "id": "71cbabfb",
   "metadata": {},
   "source": [
    "# <center>Fitting Linear Regression Model Using Cross Validation"
   ]
  },
  {
   "cell_type": "code",
   "execution_count": 21,
   "id": "a0c777bd",
   "metadata": {},
   "outputs": [],
   "source": [
    "from sklearn.model_selection import cross_val_score"
   ]
  },
  {
   "cell_type": "code",
   "execution_count": 71,
   "id": "f11dfba9",
   "metadata": {},
   "outputs": [
    {
     "data": {
      "text/plain": [
       "array([ 0.44940069,  0.34960724,  0.76459097,  0.66981948, -0.73756838])"
      ]
     },
     "execution_count": 71,
     "metadata": {},
     "output_type": "execute_result"
    }
   ],
   "source": [
    "cv_res= cross_val_score(Lreg, X, y, cv=5)\n",
    "avgR2=np.mean(cv_res)\n",
    "cv_res"
   ]
  },
  {
   "cell_type": "code",
   "execution_count": 72,
   "id": "5075c425",
   "metadata": {},
   "outputs": [
    {
     "name": "stdout",
     "output_type": "stream",
     "text": [
      "The average R^2 is: 0.29917000069635125\n"
     ]
    }
   ],
   "source": [
    "print(f\"The average R^2 is: {avgR2}\")"
   ]
  },
  {
   "cell_type": "markdown",
   "id": "8158f1a2",
   "metadata": {},
   "source": [
    "# <center> Scoring The Cross Validation Results with Different Metrics"
   ]
  },
  {
   "cell_type": "code",
   "execution_count": 76,
   "id": "804911de",
   "metadata": {},
   "outputs": [
    {
     "data": {
      "text/plain": [
       "array([3.47209115, 4.03357367, 2.34330295, 3.07479877, 6.54658414])"
      ]
     },
     "execution_count": 76,
     "metadata": {},
     "output_type": "execute_result"
    }
   ],
   "source": [
    "lreg_cv = LinearRegression()\n",
    "# with MAE: \n",
    "mae= make_scorer(mean_absolute_error)\n",
    "cv_mae= cross_val_score(lreg_cv, X, y, cv=5, scoring=mae)\n",
    "cv_mae"
   ]
  },
  {
   "cell_type": "code",
   "execution_count": 78,
   "id": "b98b3a1f",
   "metadata": {},
   "outputs": [
    {
     "name": "stdout",
     "output_type": "stream",
     "text": [
      " The average MAE is : 3.8941\n"
     ]
    }
   ],
   "source": [
    "print(f' The average MAE is : {np.mean(cv_mae) :.4f}')"
   ]
  },
  {
   "cell_type": "code",
   "execution_count": 79,
   "id": "14cc49a4",
   "metadata": {},
   "outputs": [
    {
     "data": {
      "text/plain": [
       "array([18.64329255, 22.57990916,  8.22439775, 16.0758349 , 61.28997539])"
      ]
     },
     "execution_count": 79,
     "metadata": {},
     "output_type": "execute_result"
    }
   ],
   "source": [
    "# with MSE: \n",
    "mse= make_scorer(mean_squared_error)\n",
    "cv_mse= cross_val_score(lreg_cv, X, y, cv=5, scoring=mse)\n",
    "cv_mse"
   ]
  },
  {
   "cell_type": "code",
   "execution_count": 83,
   "id": "ff1dada7",
   "metadata": {},
   "outputs": [
    {
     "name": "stdout",
     "output_type": "stream",
     "text": [
      "The Average of MSE is : 25.36268\n"
     ]
    }
   ],
   "source": [
    "print(f'The Average of MSE is : {np.mean(cv_mse) :.5f}')"
   ]
  },
  {
   "cell_type": "code",
   "execution_count": 22,
   "id": "d6e39b37",
   "metadata": {},
   "outputs": [],
   "source": [
    "# import train_test_split\n",
    "from sklearn.model_selection import train_test_split "
   ]
  },
  {
   "cell_type": "code",
   "execution_count": 23,
   "id": "660cc79e",
   "metadata": {},
   "outputs": [],
   "source": [
    "X_temp, X_test, y_temp, y_test = train_test_split(X, y, test_size=0.15, random_state=1711)\n",
    "\n",
    "X_train, X_val, y_train,  y_val = train_test_split(X_temp, y_temp, test_size=0.25, random_state=1711)"
   ]
  },
  {
   "cell_type": "code",
   "execution_count": 24,
   "id": "07c4bf7d",
   "metadata": {},
   "outputs": [
    {
     "name": "stdout",
     "output_type": "stream",
     "text": [
      "(397, 4) (337, 4) (252, 4) (85, 4)\n"
     ]
    }
   ],
   "source": [
    "print(X.shape, X_temp.shape, X_train.shape, X_val.shape )"
   ]
  },
  {
   "cell_type": "code",
   "execution_count": 25,
   "id": "b28f0e3a",
   "metadata": {},
   "outputs": [
    {
     "name": "stdout",
     "output_type": "stream",
     "text": [
      "(397,) (337,) (252,) (85,)\n"
     ]
    }
   ],
   "source": [
    "print(y.shape, y_temp.shape, y_train.shape, y_val.shape )"
   ]
  },
  {
   "cell_type": "markdown",
   "id": "74caa77d",
   "metadata": {},
   "source": [
    "# <center> Ridge Regression "
   ]
  },
  {
   "cell_type": "code",
   "execution_count": 27,
   "id": "72416515",
   "metadata": {},
   "outputs": [],
   "source": [
    "from sklearn.linear_model import Ridge"
   ]
  },
  {
   "cell_type": "code",
   "execution_count": 29,
   "id": "14cfabca",
   "metadata": {},
   "outputs": [],
   "source": [
    "r= Ridge()\n",
    "ridg_mod= r.fit(X, y)"
   ]
  },
  {
   "cell_type": "code",
   "execution_count": 32,
   "id": "4c9d0143",
   "metadata": {},
   "outputs": [
    {
     "name": "stdout",
     "output_type": "stream",
     "text": [
      "The intercept is:  41.8218666594522\n"
     ]
    }
   ],
   "source": [
    "print('The intercept is: ', ridg_mod.intercept_)"
   ]
  },
  {
   "cell_type": "code",
   "execution_count": 34,
   "id": "1409f3da",
   "metadata": {},
   "outputs": [
    {
     "data": {
      "text/html": [
       "<div>\n",
       "<style scoped>\n",
       "    .dataframe tbody tr th:only-of-type {\n",
       "        vertical-align: middle;\n",
       "    }\n",
       "\n",
       "    .dataframe tbody tr th {\n",
       "        vertical-align: top;\n",
       "    }\n",
       "\n",
       "    .dataframe thead th {\n",
       "        text-align: right;\n",
       "    }\n",
       "</style>\n",
       "<table border=\"1\" class=\"dataframe\">\n",
       "  <thead>\n",
       "    <tr style=\"text-align: right;\">\n",
       "      <th></th>\n",
       "      <th>Variable</th>\n",
       "      <th>coef</th>\n",
       "    </tr>\n",
       "  </thead>\n",
       "  <tbody>\n",
       "    <tr>\n",
       "      <th>0</th>\n",
       "      <td>cylinders</td>\n",
       "      <td>-0.270149</td>\n",
       "    </tr>\n",
       "    <tr>\n",
       "      <th>1</th>\n",
       "      <td>displacement</td>\n",
       "      <td>-0.007012</td>\n",
       "    </tr>\n",
       "    <tr>\n",
       "      <th>2</th>\n",
       "      <td>weight</td>\n",
       "      <td>-0.006143</td>\n",
       "    </tr>\n",
       "    <tr>\n",
       "      <th>3</th>\n",
       "      <td>acceleration</td>\n",
       "      <td>0.178104</td>\n",
       "    </tr>\n",
       "  </tbody>\n",
       "</table>\n",
       "</div>"
      ],
      "text/plain": [
       "       Variable      coef\n",
       "0     cylinders -0.270149\n",
       "1  displacement -0.007012\n",
       "2        weight -0.006143\n",
       "3  acceleration  0.178104"
      ]
     },
     "execution_count": 34,
     "metadata": {},
     "output_type": "execute_result"
    }
   ],
   "source": [
    "coef = pd.DataFrame(list(zip(data.iloc[:, np.r_[1:3, 4:6]], ridg_mod.coef_)), \n",
    "                   columns=['Variable',\"coef\"])\n",
    "coef\n"
   ]
  },
  {
   "cell_type": "code",
   "execution_count": 36,
   "id": "25eadef0",
   "metadata": {},
   "outputs": [
    {
     "data": {
      "image/png": "[encoded data removed]",
      "text/plain": [
       "<Figure size 432x288 with 1 Axes>"
      ]
     },
     "metadata": {
      "needs_background": "light"
     },
     "output_type": "display_data"
    }
   ],
   "source": [
    "# It is better to plot the coefficient to see the difference\n",
    "plt.plot(ridg_mod.coef_, color='purple')\n",
    "plt.plot(Lreg.coef_, c = 'red')\n",
    "plt.show()"
   ]
  },
  {
   "cell_type": "markdown",
   "id": "e059f38a-8219-415b-813f-758d08ca43d7",
   "metadata": {},
   "source": [
    "# <center> Fitting Ridge Regression with a Range of Alpha Values"
   ]
  },
  {
   "cell_type": "code",
   "execution_count": null,
   "id": "dcb41e2e-cad3-47f0-9f1d-3cd95f1ba192",
   "metadata": {},
   "outputs": [],
   "source": []
  },
  {
   "cell_type": "code",
   "execution_count": null,
   "id": "78b43382-2af5-4e1b-b12c-f6c3f05af021",
   "metadata": {},
   "outputs": [],
   "source": []
  }
 ],
 "metadata": {
  "kernelspec": {
   "display_name": "Python 3 (ipykernel)",
   "language": "python",
   "name": "python3"
  },
  "language_info": {
   "codemirror_mode": {
    "name": "ipython",
    "version": 3
   },
   "file_extension": ".py",
   "mimetype": "text/x-python",
   "name": "python",
   "nbconvert_exporter": "python",
   "pygments_lexer": "ipython3",
   "version": "3.9.7"
  }
 },
 "nbformat": 4,
 "nbformat_minor": 5
}
