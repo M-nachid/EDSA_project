{
 "cells": [
  {
   "cell_type": "markdown",
   "id": "64590ae0",
   "metadata": {},
   "source": [
    "# Credit Card Project "
   ]
  },
  {
   "cell_type": "markdown",
   "id": "38c51fa2",
   "metadata": {},
   "source": [
    "The data set will be use in this small project is from the book **Econometric Analysis** by **William Green**. The [credit cared data](https://www.kaggle.com/dansbecker/aer-credit-card-data) is from kaggle. You can also download it from this [here](https://github.com/DrSaadLa/PythonTuts/blob/main/Data/AER_credit_card_data.csv). "
   ]
  },
  {
   "cell_type": "markdown",
   "id": "008f98ed",
   "metadata": {},
   "source": [
    "## Data Description\n",
    "\n",
    "**Card**:    Dummy variable, 1 if application for credit card accepted, 0 if not\n",
    "\n",
    "**reports**: Number of major derogatory reports\n",
    "\n",
    "**age**:     Age n years plus twelfths of a year\n",
    "\n",
    "**income**:  Yearly income (divided by 10,000)\n",
    "\n",
    "**share**:   Ratio of monthly credit card expenditure to yearly income\n",
    "\n",
    "**expenditure**: Average monthly credit card expenditure\n",
    "\n",
    "**owner**:      1 if owns their home, 0 if rent\n",
    "\n",
    "**selfempl**:   1 if self employed, 0 if not.\n",
    "\n",
    "**dependents**: 1 + number of dependents\n",
    "\n",
    "**months**:     Months living at current address\n",
    "\n",
    "**majorcards**: Number of major credit cards held\n",
    "\n",
    "**active**:     Number of active credit accounts"
   ]
  },
  {
   "cell_type": "markdown",
   "id": "03d8b420",
   "metadata": {},
   "source": [
    "## Problem Description\n",
    "\n",
    " - In this project, we will mainly focus on **Exploring** the data set and carry some descriptive statistics. Finally we draw some conclusions upon our results"
   ]
  },
  {
   "cell_type": "markdown",
   "id": "134cca75",
   "metadata": {},
   "source": [
    "### Import the necessary packages with their aliases\n",
    "\n",
    "  - Import pandas\n",
    "  - Import numpy\n",
    "  - Import matplotlib\n",
    "  - Import seaborn"
   ]
  },
  {
   "cell_type": "code",
   "execution_count": 1,
   "id": "fddac3bd",
   "metadata": {},
   "outputs": [],
   "source": [
    "import pandas as pd # as= aliase\n",
    "import numpy as np\n",
    "import matplotlib.pyplot as plt\n",
    "import seaborn as sns"
   ]
  },
  {
   "cell_type": "markdown",
   "id": "f0113fa2",
   "metadata": {},
   "source": [
    "### Load the data set"
   ]
  },
  {
   "cell_type": "code",
   "execution_count": 2,
   "id": "bf814f10",
   "metadata": {},
   "outputs": [],
   "source": [
    "url = \"https://raw.githubusercontent.com/DrSaadLa/PythonTuts/main/Data/credit.csv\""
   ]
  },
  {
   "cell_type": "markdown",
   "id": "d8dc9935",
   "metadata": {},
   "source": [
    "#### Read the The CSV file, and call the data **credit**"
   ]
  },
  {
   "cell_type": "code",
   "execution_count": 3,
   "id": "3887ec50",
   "metadata": {},
   "outputs": [
    {
     "data": {
      "text/html": [
       "<div>\n",
       "<style scoped>\n",
       "    .dataframe tbody tr th:only-of-type {\n",
       "        vertical-align: middle;\n",
       "    }\n",
       "\n",
       "    .dataframe tbody tr th {\n",
       "        vertical-align: top;\n",
       "    }\n",
       "\n",
       "    .dataframe thead th {\n",
       "        text-align: right;\n",
       "    }\n",
       "</style>\n",
       "<table border=\"1\" class=\"dataframe\">\n",
       "  <thead>\n",
       "    <tr style=\"text-align: right;\">\n",
       "      <th></th>\n",
       "      <th>card</th>\n",
       "      <th>reports</th>\n",
       "      <th>age</th>\n",
       "      <th>income</th>\n",
       "      <th>share</th>\n",
       "      <th>expenditure</th>\n",
       "      <th>owner</th>\n",
       "      <th>selfemp</th>\n",
       "      <th>dependents</th>\n",
       "      <th>months</th>\n",
       "      <th>majorcards</th>\n",
       "      <th>active</th>\n",
       "    </tr>\n",
       "  </thead>\n",
       "  <tbody>\n",
       "    <tr>\n",
       "      <th>0</th>\n",
       "      <td>yes</td>\n",
       "      <td>0</td>\n",
       "      <td>37.66667</td>\n",
       "      <td>4.5200</td>\n",
       "      <td>0.033270</td>\n",
       "      <td>124.983300</td>\n",
       "      <td>yes</td>\n",
       "      <td>no</td>\n",
       "      <td>3</td>\n",
       "      <td>54</td>\n",
       "      <td>1</td>\n",
       "      <td>12</td>\n",
       "    </tr>\n",
       "    <tr>\n",
       "      <th>1</th>\n",
       "      <td>yes</td>\n",
       "      <td>0</td>\n",
       "      <td>33.25000</td>\n",
       "      <td>2.4200</td>\n",
       "      <td>0.005217</td>\n",
       "      <td>9.854167</td>\n",
       "      <td>no</td>\n",
       "      <td>no</td>\n",
       "      <td>3</td>\n",
       "      <td>34</td>\n",
       "      <td>1</td>\n",
       "      <td>13</td>\n",
       "    </tr>\n",
       "    <tr>\n",
       "      <th>2</th>\n",
       "      <td>yes</td>\n",
       "      <td>0</td>\n",
       "      <td>33.66667</td>\n",
       "      <td>4.5000</td>\n",
       "      <td>0.004156</td>\n",
       "      <td>15.000000</td>\n",
       "      <td>yes</td>\n",
       "      <td>no</td>\n",
       "      <td>4</td>\n",
       "      <td>58</td>\n",
       "      <td>1</td>\n",
       "      <td>5</td>\n",
       "    </tr>\n",
       "    <tr>\n",
       "      <th>3</th>\n",
       "      <td>yes</td>\n",
       "      <td>0</td>\n",
       "      <td>30.50000</td>\n",
       "      <td>2.5400</td>\n",
       "      <td>0.065214</td>\n",
       "      <td>137.869200</td>\n",
       "      <td>no</td>\n",
       "      <td>no</td>\n",
       "      <td>0</td>\n",
       "      <td>25</td>\n",
       "      <td>1</td>\n",
       "      <td>7</td>\n",
       "    </tr>\n",
       "    <tr>\n",
       "      <th>4</th>\n",
       "      <td>yes</td>\n",
       "      <td>0</td>\n",
       "      <td>32.16667</td>\n",
       "      <td>9.7867</td>\n",
       "      <td>0.067051</td>\n",
       "      <td>546.503300</td>\n",
       "      <td>yes</td>\n",
       "      <td>no</td>\n",
       "      <td>2</td>\n",
       "      <td>64</td>\n",
       "      <td>1</td>\n",
       "      <td>5</td>\n",
       "    </tr>\n",
       "    <tr>\n",
       "      <th>...</th>\n",
       "      <td>...</td>\n",
       "      <td>...</td>\n",
       "      <td>...</td>\n",
       "      <td>...</td>\n",
       "      <td>...</td>\n",
       "      <td>...</td>\n",
       "      <td>...</td>\n",
       "      <td>...</td>\n",
       "      <td>...</td>\n",
       "      <td>...</td>\n",
       "      <td>...</td>\n",
       "      <td>...</td>\n",
       "    </tr>\n",
       "    <tr>\n",
       "      <th>1314</th>\n",
       "      <td>yes</td>\n",
       "      <td>0</td>\n",
       "      <td>33.58333</td>\n",
       "      <td>4.5660</td>\n",
       "      <td>0.002146</td>\n",
       "      <td>7.333333</td>\n",
       "      <td>yes</td>\n",
       "      <td>no</td>\n",
       "      <td>0</td>\n",
       "      <td>94</td>\n",
       "      <td>1</td>\n",
       "      <td>19</td>\n",
       "    </tr>\n",
       "    <tr>\n",
       "      <th>1315</th>\n",
       "      <td>no</td>\n",
       "      <td>5</td>\n",
       "      <td>23.91667</td>\n",
       "      <td>3.1920</td>\n",
       "      <td>0.000376</td>\n",
       "      <td>0.000000</td>\n",
       "      <td>no</td>\n",
       "      <td>no</td>\n",
       "      <td>3</td>\n",
       "      <td>12</td>\n",
       "      <td>1</td>\n",
       "      <td>5</td>\n",
       "    </tr>\n",
       "    <tr>\n",
       "      <th>1316</th>\n",
       "      <td>yes</td>\n",
       "      <td>0</td>\n",
       "      <td>40.58333</td>\n",
       "      <td>4.6000</td>\n",
       "      <td>0.026513</td>\n",
       "      <td>101.298300</td>\n",
       "      <td>yes</td>\n",
       "      <td>no</td>\n",
       "      <td>2</td>\n",
       "      <td>1</td>\n",
       "      <td>1</td>\n",
       "      <td>2</td>\n",
       "    </tr>\n",
       "    <tr>\n",
       "      <th>1317</th>\n",
       "      <td>yes</td>\n",
       "      <td>0</td>\n",
       "      <td>32.83333</td>\n",
       "      <td>3.7000</td>\n",
       "      <td>0.008999</td>\n",
       "      <td>26.996670</td>\n",
       "      <td>no</td>\n",
       "      <td>yes</td>\n",
       "      <td>0</td>\n",
       "      <td>60</td>\n",
       "      <td>1</td>\n",
       "      <td>7</td>\n",
       "    </tr>\n",
       "    <tr>\n",
       "      <th>1318</th>\n",
       "      <td>yes</td>\n",
       "      <td>0</td>\n",
       "      <td>48.25000</td>\n",
       "      <td>3.7000</td>\n",
       "      <td>0.111619</td>\n",
       "      <td>344.157500</td>\n",
       "      <td>yes</td>\n",
       "      <td>no</td>\n",
       "      <td>2</td>\n",
       "      <td>2</td>\n",
       "      <td>1</td>\n",
       "      <td>0</td>\n",
       "    </tr>\n",
       "  </tbody>\n",
       "</table>\n",
       "<p>1319 rows × 12 columns</p>\n",
       "</div>"
      ],
      "text/plain": [
       "     card  reports       age  income     share  expenditure owner selfemp  \\\n",
       "0     yes        0  37.66667  4.5200  0.033270   124.983300   yes      no   \n",
       "1     yes        0  33.25000  2.4200  0.005217     9.854167    no      no   \n",
       "2     yes        0  33.66667  4.5000  0.004156    15.000000   yes      no   \n",
       "3     yes        0  30.50000  2.5400  0.065214   137.869200    no      no   \n",
       "4     yes        0  32.16667  9.7867  0.067051   546.503300   yes      no   \n",
       "...   ...      ...       ...     ...       ...          ...   ...     ...   \n",
       "1314  yes        0  33.58333  4.5660  0.002146     7.333333   yes      no   \n",
       "1315   no        5  23.91667  3.1920  0.000376     0.000000    no      no   \n",
       "1316  yes        0  40.58333  4.6000  0.026513   101.298300   yes      no   \n",
       "1317  yes        0  32.83333  3.7000  0.008999    26.996670    no     yes   \n",
       "1318  yes        0  48.25000  3.7000  0.111619   344.157500   yes      no   \n",
       "\n",
       "      dependents  months  majorcards  active  \n",
       "0              3      54           1      12  \n",
       "1              3      34           1      13  \n",
       "2              4      58           1       5  \n",
       "3              0      25           1       7  \n",
       "4              2      64           1       5  \n",
       "...          ...     ...         ...     ...  \n",
       "1314           0      94           1      19  \n",
       "1315           3      12           1       5  \n",
       "1316           2       1           1       2  \n",
       "1317           0      60           1       7  \n",
       "1318           2       2           1       0  \n",
       "\n",
       "[1319 rows x 12 columns]"
      ]
     },
     "execution_count": 3,
     "metadata": {},
     "output_type": "execute_result"
    }
   ],
   "source": [
    "cr=pd.read_csv(url)\n",
    "cr"
   ]
  },
  {
   "cell_type": "markdown",
   "id": "8bcd65b0",
   "metadata": {},
   "source": [
    "## Data Exploration\n"
   ]
  },
  {
   "cell_type": "markdown",
   "id": "95b5f30c",
   "metadata": {},
   "source": [
    "### Check the data information"
   ]
  },
  {
   "cell_type": "code",
   "execution_count": 4,
   "id": "259d2007",
   "metadata": {},
   "outputs": [
    {
     "name": "stdout",
     "output_type": "stream",
     "text": [
      "<class 'pandas.core.frame.DataFrame'>\n",
      "RangeIndex: 1319 entries, 0 to 1318\n",
      "Data columns (total 12 columns):\n",
      " #   Column       Non-Null Count  Dtype  \n",
      "---  ------       --------------  -----  \n",
      " 0   card         1319 non-null   object \n",
      " 1   reports      1319 non-null   int64  \n",
      " 2   age          1319 non-null   float64\n",
      " 3   income       1319 non-null   float64\n",
      " 4   share        1319 non-null   float64\n",
      " 5   expenditure  1319 non-null   float64\n",
      " 6   owner        1319 non-null   object \n",
      " 7   selfemp      1319 non-null   object \n",
      " 8   dependents   1319 non-null   int64  \n",
      " 9   months       1319 non-null   int64  \n",
      " 10  majorcards   1319 non-null   int64  \n",
      " 11  active       1319 non-null   int64  \n",
      "dtypes: float64(4), int64(5), object(3)\n",
      "memory usage: 123.8+ KB\n"
     ]
    }
   ],
   "source": [
    "cr.info()"
   ]
  },
  {
   "cell_type": "markdown",
   "id": "eccb9294",
   "metadata": {},
   "source": [
    "### Answer the question Literally\n",
    "\n",
    " - How many variables? 12\n",
    " \n",
    " - How many observations? 1319\n",
    " \n",
    " - What is the size of the data in memory? 1071.6875 KB\n",
    " \n",
    " - How many numeric variables?  9\n",
    " \n",
    " - How many nominal variables?  3"
   ]
  },
  {
   "cell_type": "markdown",
   "id": "dcb1d196",
   "metadata": {},
   "source": [
    "1. Number of variables: 12\n",
    "\n",
    "2. Number of observations: 1319\n",
    "\n",
    "3. Size of the data in memory: 1071.6875 KB\n",
    "\n",
    "4. The number of numeric variables: 9\n",
    "\n",
    "5. The number of string variables:  3"
   ]
  },
  {
   "cell_type": "markdown",
   "id": "7d681e22",
   "metadata": {},
   "source": [
    "### Check the head of the data"
   ]
  },
  {
   "cell_type": "code",
   "execution_count": 5,
   "id": "89ccf3b5",
   "metadata": {},
   "outputs": [
    {
     "data": {
      "text/plain": [
       "Index            128\n",
       "card           10552\n",
       "reports        10552\n",
       "age            10552\n",
       "income         10552\n",
       "share          10552\n",
       "expenditure    10552\n",
       "owner          10552\n",
       "selfemp        10552\n",
       "dependents     10552\n",
       "months         10552\n",
       "majorcards     10552\n",
       "active         10552\n",
       "dtype: int64"
      ]
     },
     "execution_count": 5,
     "metadata": {},
     "output_type": "execute_result"
    }
   ],
   "source": [
    "cr.memory_usage()"
   ]
  },
  {
   "cell_type": "code",
   "execution_count": 38,
   "id": "6695b40a",
   "metadata": {},
   "outputs": [
    {
     "data": {
      "text/plain": [
       "126752"
      ]
     },
     "execution_count": 38,
     "metadata": {},
     "output_type": "execute_result"
    }
   ],
   "source": [
    "10552*12 +128"
   ]
  },
  {
   "cell_type": "code",
   "execution_count": 7,
   "id": "613f9ad9",
   "metadata": {},
   "outputs": [
    {
     "data": {
      "text/html": [
       "<div>\n",
       "<style scoped>\n",
       "    .dataframe tbody tr th:only-of-type {\n",
       "        vertical-align: middle;\n",
       "    }\n",
       "\n",
       "    .dataframe tbody tr th {\n",
       "        vertical-align: top;\n",
       "    }\n",
       "\n",
       "    .dataframe thead th {\n",
       "        text-align: right;\n",
       "    }\n",
       "</style>\n",
       "<table border=\"1\" class=\"dataframe\">\n",
       "  <thead>\n",
       "    <tr style=\"text-align: right;\">\n",
       "      <th></th>\n",
       "      <th>card</th>\n",
       "      <th>reports</th>\n",
       "      <th>age</th>\n",
       "      <th>income</th>\n",
       "      <th>share</th>\n",
       "      <th>expenditure</th>\n",
       "      <th>owner</th>\n",
       "      <th>selfemp</th>\n",
       "      <th>dependents</th>\n",
       "      <th>months</th>\n",
       "      <th>majorcards</th>\n",
       "      <th>active</th>\n",
       "    </tr>\n",
       "  </thead>\n",
       "  <tbody>\n",
       "    <tr>\n",
       "      <th>0</th>\n",
       "      <td>yes</td>\n",
       "      <td>0</td>\n",
       "      <td>37.66667</td>\n",
       "      <td>4.5200</td>\n",
       "      <td>0.033270</td>\n",
       "      <td>124.983300</td>\n",
       "      <td>yes</td>\n",
       "      <td>no</td>\n",
       "      <td>3</td>\n",
       "      <td>54</td>\n",
       "      <td>1</td>\n",
       "      <td>12</td>\n",
       "    </tr>\n",
       "    <tr>\n",
       "      <th>1</th>\n",
       "      <td>yes</td>\n",
       "      <td>0</td>\n",
       "      <td>33.25000</td>\n",
       "      <td>2.4200</td>\n",
       "      <td>0.005217</td>\n",
       "      <td>9.854167</td>\n",
       "      <td>no</td>\n",
       "      <td>no</td>\n",
       "      <td>3</td>\n",
       "      <td>34</td>\n",
       "      <td>1</td>\n",
       "      <td>13</td>\n",
       "    </tr>\n",
       "    <tr>\n",
       "      <th>2</th>\n",
       "      <td>yes</td>\n",
       "      <td>0</td>\n",
       "      <td>33.66667</td>\n",
       "      <td>4.5000</td>\n",
       "      <td>0.004156</td>\n",
       "      <td>15.000000</td>\n",
       "      <td>yes</td>\n",
       "      <td>no</td>\n",
       "      <td>4</td>\n",
       "      <td>58</td>\n",
       "      <td>1</td>\n",
       "      <td>5</td>\n",
       "    </tr>\n",
       "    <tr>\n",
       "      <th>3</th>\n",
       "      <td>yes</td>\n",
       "      <td>0</td>\n",
       "      <td>30.50000</td>\n",
       "      <td>2.5400</td>\n",
       "      <td>0.065214</td>\n",
       "      <td>137.869200</td>\n",
       "      <td>no</td>\n",
       "      <td>no</td>\n",
       "      <td>0</td>\n",
       "      <td>25</td>\n",
       "      <td>1</td>\n",
       "      <td>7</td>\n",
       "    </tr>\n",
       "    <tr>\n",
       "      <th>4</th>\n",
       "      <td>yes</td>\n",
       "      <td>0</td>\n",
       "      <td>32.16667</td>\n",
       "      <td>9.7867</td>\n",
       "      <td>0.067051</td>\n",
       "      <td>546.503300</td>\n",
       "      <td>yes</td>\n",
       "      <td>no</td>\n",
       "      <td>2</td>\n",
       "      <td>64</td>\n",
       "      <td>1</td>\n",
       "      <td>5</td>\n",
       "    </tr>\n",
       "  </tbody>\n",
       "</table>\n",
       "</div>"
      ],
      "text/plain": [
       "  card  reports       age  income     share  expenditure owner selfemp  \\\n",
       "0  yes        0  37.66667  4.5200  0.033270   124.983300   yes      no   \n",
       "1  yes        0  33.25000  2.4200  0.005217     9.854167    no      no   \n",
       "2  yes        0  33.66667  4.5000  0.004156    15.000000   yes      no   \n",
       "3  yes        0  30.50000  2.5400  0.065214   137.869200    no      no   \n",
       "4  yes        0  32.16667  9.7867  0.067051   546.503300   yes      no   \n",
       "\n",
       "   dependents  months  majorcards  active  \n",
       "0           3      54           1      12  \n",
       "1           3      34           1      13  \n",
       "2           4      58           1       5  \n",
       "3           0      25           1       7  \n",
       "4           2      64           1       5  "
      ]
     },
     "execution_count": 7,
     "metadata": {},
     "output_type": "execute_result"
    }
   ],
   "source": [
    "cr.head()"
   ]
  },
  {
   "cell_type": "markdown",
   "id": "e3f256f2",
   "metadata": {},
   "source": [
    "### Check the column names"
   ]
  },
  {
   "cell_type": "code",
   "execution_count": 8,
   "id": "39da924c",
   "metadata": {},
   "outputs": [
    {
     "data": {
      "text/plain": [
       "Index(['card', 'reports', 'age', 'income', 'share', 'expenditure', 'owner',\n",
       "       'selfemp', 'dependents', 'months', 'majorcards', 'active'],\n",
       "      dtype='object')"
      ]
     },
     "execution_count": 8,
     "metadata": {},
     "output_type": "execute_result"
    }
   ],
   "source": [
    "cr.columns"
   ]
  },
  {
   "cell_type": "code",
   "execution_count": 9,
   "id": "63f7eedb",
   "metadata": {},
   "outputs": [
    {
     "name": "stdout",
     "output_type": "stream",
     "text": [
      "None\n"
     ]
    }
   ],
   "source": [
    "print(cr.columns.name)"
   ]
  },
  {
   "cell_type": "markdown",
   "id": "d8804018",
   "metadata": {},
   "source": [
    "## Exploratory Data Analysis\n",
    "\n",
    "In order to do this section please refer to [this tutorial](https://github.com/DrSaadLa/PythonTuts/blob/main/PandasTuts/03.05.%20Pandas%20Operations.ipynb)"
   ]
  },
  {
   "cell_type": "markdown",
   "id": "1ef2c42c",
   "metadata": {},
   "source": [
    "## check the summary statistics of the whole data set"
   ]
  },
  {
   "cell_type": "code",
   "execution_count": 10,
   "id": "ca92f2cd",
   "metadata": {},
   "outputs": [
    {
     "data": {
      "text/html": [
       "<div>\n",
       "<style scoped>\n",
       "    .dataframe tbody tr th:only-of-type {\n",
       "        vertical-align: middle;\n",
       "    }\n",
       "\n",
       "    .dataframe tbody tr th {\n",
       "        vertical-align: top;\n",
       "    }\n",
       "\n",
       "    .dataframe thead th {\n",
       "        text-align: right;\n",
       "    }\n",
       "</style>\n",
       "<table border=\"1\" class=\"dataframe\">\n",
       "  <thead>\n",
       "    <tr style=\"text-align: right;\">\n",
       "      <th></th>\n",
       "      <th>reports</th>\n",
       "      <th>age</th>\n",
       "      <th>income</th>\n",
       "      <th>share</th>\n",
       "      <th>expenditure</th>\n",
       "      <th>dependents</th>\n",
       "      <th>months</th>\n",
       "      <th>majorcards</th>\n",
       "      <th>active</th>\n",
       "    </tr>\n",
       "  </thead>\n",
       "  <tbody>\n",
       "    <tr>\n",
       "      <th>count</th>\n",
       "      <td>1319.000000</td>\n",
       "      <td>1319.000000</td>\n",
       "      <td>1319.000000</td>\n",
       "      <td>1319.000000</td>\n",
       "      <td>1319.000000</td>\n",
       "      <td>1319.000000</td>\n",
       "      <td>1319.000000</td>\n",
       "      <td>1319.000000</td>\n",
       "      <td>1319.000000</td>\n",
       "    </tr>\n",
       "    <tr>\n",
       "      <th>mean</th>\n",
       "      <td>0.456406</td>\n",
       "      <td>33.213103</td>\n",
       "      <td>3.365376</td>\n",
       "      <td>0.068732</td>\n",
       "      <td>185.057071</td>\n",
       "      <td>0.993935</td>\n",
       "      <td>55.267627</td>\n",
       "      <td>0.817286</td>\n",
       "      <td>6.996967</td>\n",
       "    </tr>\n",
       "    <tr>\n",
       "      <th>std</th>\n",
       "      <td>1.345267</td>\n",
       "      <td>10.142783</td>\n",
       "      <td>1.693902</td>\n",
       "      <td>0.094656</td>\n",
       "      <td>272.218917</td>\n",
       "      <td>1.247745</td>\n",
       "      <td>66.271746</td>\n",
       "      <td>0.386579</td>\n",
       "      <td>6.305812</td>\n",
       "    </tr>\n",
       "    <tr>\n",
       "      <th>min</th>\n",
       "      <td>0.000000</td>\n",
       "      <td>0.166667</td>\n",
       "      <td>0.210000</td>\n",
       "      <td>0.000109</td>\n",
       "      <td>0.000000</td>\n",
       "      <td>0.000000</td>\n",
       "      <td>0.000000</td>\n",
       "      <td>0.000000</td>\n",
       "      <td>0.000000</td>\n",
       "    </tr>\n",
       "    <tr>\n",
       "      <th>25%</th>\n",
       "      <td>0.000000</td>\n",
       "      <td>25.416670</td>\n",
       "      <td>2.243750</td>\n",
       "      <td>0.002316</td>\n",
       "      <td>4.583333</td>\n",
       "      <td>0.000000</td>\n",
       "      <td>12.000000</td>\n",
       "      <td>1.000000</td>\n",
       "      <td>2.000000</td>\n",
       "    </tr>\n",
       "    <tr>\n",
       "      <th>50%</th>\n",
       "      <td>0.000000</td>\n",
       "      <td>31.250000</td>\n",
       "      <td>2.900000</td>\n",
       "      <td>0.038827</td>\n",
       "      <td>101.298300</td>\n",
       "      <td>1.000000</td>\n",
       "      <td>30.000000</td>\n",
       "      <td>1.000000</td>\n",
       "      <td>6.000000</td>\n",
       "    </tr>\n",
       "    <tr>\n",
       "      <th>75%</th>\n",
       "      <td>0.000000</td>\n",
       "      <td>39.416670</td>\n",
       "      <td>4.000000</td>\n",
       "      <td>0.093617</td>\n",
       "      <td>249.035800</td>\n",
       "      <td>2.000000</td>\n",
       "      <td>72.000000</td>\n",
       "      <td>1.000000</td>\n",
       "      <td>11.000000</td>\n",
       "    </tr>\n",
       "    <tr>\n",
       "      <th>max</th>\n",
       "      <td>14.000000</td>\n",
       "      <td>83.500000</td>\n",
       "      <td>13.500000</td>\n",
       "      <td>0.906320</td>\n",
       "      <td>3099.505000</td>\n",
       "      <td>6.000000</td>\n",
       "      <td>540.000000</td>\n",
       "      <td>1.000000</td>\n",
       "      <td>46.000000</td>\n",
       "    </tr>\n",
       "  </tbody>\n",
       "</table>\n",
       "</div>"
      ],
      "text/plain": [
       "           reports          age       income        share  expenditure  \\\n",
       "count  1319.000000  1319.000000  1319.000000  1319.000000  1319.000000   \n",
       "mean      0.456406    33.213103     3.365376     0.068732   185.057071   \n",
       "std       1.345267    10.142783     1.693902     0.094656   272.218917   \n",
       "min       0.000000     0.166667     0.210000     0.000109     0.000000   \n",
       "25%       0.000000    25.416670     2.243750     0.002316     4.583333   \n",
       "50%       0.000000    31.250000     2.900000     0.038827   101.298300   \n",
       "75%       0.000000    39.416670     4.000000     0.093617   249.035800   \n",
       "max      14.000000    83.500000    13.500000     0.906320  3099.505000   \n",
       "\n",
       "        dependents       months   majorcards       active  \n",
       "count  1319.000000  1319.000000  1319.000000  1319.000000  \n",
       "mean      0.993935    55.267627     0.817286     6.996967  \n",
       "std       1.247745    66.271746     0.386579     6.305812  \n",
       "min       0.000000     0.000000     0.000000     0.000000  \n",
       "25%       0.000000    12.000000     1.000000     2.000000  \n",
       "50%       1.000000    30.000000     1.000000     6.000000  \n",
       "75%       2.000000    72.000000     1.000000    11.000000  \n",
       "max       6.000000   540.000000     1.000000    46.000000  "
      ]
     },
     "execution_count": 10,
     "metadata": {},
     "output_type": "execute_result"
    }
   ],
   "source": [
    "cr.describe()"
   ]
  },
  {
   "cell_type": "code",
   "execution_count": 39,
   "id": "c4cf3a50",
   "metadata": {},
   "outputs": [
    {
     "data": {
      "text/html": [
       "<div>\n",
       "<style scoped>\n",
       "    .dataframe tbody tr th:only-of-type {\n",
       "        vertical-align: middle;\n",
       "    }\n",
       "\n",
       "    .dataframe tbody tr th {\n",
       "        vertical-align: top;\n",
       "    }\n",
       "\n",
       "    .dataframe thead th {\n",
       "        text-align: right;\n",
       "    }\n",
       "</style>\n",
       "<table border=\"1\" class=\"dataframe\">\n",
       "  <thead>\n",
       "    <tr style=\"text-align: right;\">\n",
       "      <th></th>\n",
       "      <th>count</th>\n",
       "      <th>mean</th>\n",
       "      <th>std</th>\n",
       "      <th>min</th>\n",
       "      <th>25%</th>\n",
       "      <th>50%</th>\n",
       "      <th>75%</th>\n",
       "      <th>max</th>\n",
       "    </tr>\n",
       "  </thead>\n",
       "  <tbody>\n",
       "    <tr>\n",
       "      <th>reports</th>\n",
       "      <td>1319.0</td>\n",
       "      <td>0.456406</td>\n",
       "      <td>1.345267</td>\n",
       "      <td>0.000000</td>\n",
       "      <td>0.000000</td>\n",
       "      <td>0.000000</td>\n",
       "      <td>0.000000</td>\n",
       "      <td>14.00000</td>\n",
       "    </tr>\n",
       "    <tr>\n",
       "      <th>age</th>\n",
       "      <td>1319.0</td>\n",
       "      <td>33.213103</td>\n",
       "      <td>10.142783</td>\n",
       "      <td>0.166667</td>\n",
       "      <td>25.416670</td>\n",
       "      <td>31.250000</td>\n",
       "      <td>39.416670</td>\n",
       "      <td>83.50000</td>\n",
       "    </tr>\n",
       "    <tr>\n",
       "      <th>income</th>\n",
       "      <td>1319.0</td>\n",
       "      <td>3.365376</td>\n",
       "      <td>1.693902</td>\n",
       "      <td>0.210000</td>\n",
       "      <td>2.243750</td>\n",
       "      <td>2.900000</td>\n",
       "      <td>4.000000</td>\n",
       "      <td>13.50000</td>\n",
       "    </tr>\n",
       "    <tr>\n",
       "      <th>share</th>\n",
       "      <td>1319.0</td>\n",
       "      <td>0.068732</td>\n",
       "      <td>0.094656</td>\n",
       "      <td>0.000109</td>\n",
       "      <td>0.002316</td>\n",
       "      <td>0.038827</td>\n",
       "      <td>0.093617</td>\n",
       "      <td>0.90632</td>\n",
       "    </tr>\n",
       "    <tr>\n",
       "      <th>expenditure</th>\n",
       "      <td>1319.0</td>\n",
       "      <td>185.057071</td>\n",
       "      <td>272.218917</td>\n",
       "      <td>0.000000</td>\n",
       "      <td>4.583333</td>\n",
       "      <td>101.298300</td>\n",
       "      <td>249.035800</td>\n",
       "      <td>3099.50500</td>\n",
       "    </tr>\n",
       "    <tr>\n",
       "      <th>dependents</th>\n",
       "      <td>1319.0</td>\n",
       "      <td>0.993935</td>\n",
       "      <td>1.247745</td>\n",
       "      <td>0.000000</td>\n",
       "      <td>0.000000</td>\n",
       "      <td>1.000000</td>\n",
       "      <td>2.000000</td>\n",
       "      <td>6.00000</td>\n",
       "    </tr>\n",
       "    <tr>\n",
       "      <th>months</th>\n",
       "      <td>1319.0</td>\n",
       "      <td>55.267627</td>\n",
       "      <td>66.271746</td>\n",
       "      <td>0.000000</td>\n",
       "      <td>12.000000</td>\n",
       "      <td>30.000000</td>\n",
       "      <td>72.000000</td>\n",
       "      <td>540.00000</td>\n",
       "    </tr>\n",
       "    <tr>\n",
       "      <th>majorcards</th>\n",
       "      <td>1319.0</td>\n",
       "      <td>0.817286</td>\n",
       "      <td>0.386579</td>\n",
       "      <td>0.000000</td>\n",
       "      <td>1.000000</td>\n",
       "      <td>1.000000</td>\n",
       "      <td>1.000000</td>\n",
       "      <td>1.00000</td>\n",
       "    </tr>\n",
       "    <tr>\n",
       "      <th>active</th>\n",
       "      <td>1319.0</td>\n",
       "      <td>6.996967</td>\n",
       "      <td>6.305812</td>\n",
       "      <td>0.000000</td>\n",
       "      <td>2.000000</td>\n",
       "      <td>6.000000</td>\n",
       "      <td>11.000000</td>\n",
       "      <td>46.00000</td>\n",
       "    </tr>\n",
       "  </tbody>\n",
       "</table>\n",
       "</div>"
      ],
      "text/plain": [
       "              count        mean         std       min        25%         50%  \\\n",
       "reports      1319.0    0.456406    1.345267  0.000000   0.000000    0.000000   \n",
       "age          1319.0   33.213103   10.142783  0.166667  25.416670   31.250000   \n",
       "income       1319.0    3.365376    1.693902  0.210000   2.243750    2.900000   \n",
       "share        1319.0    0.068732    0.094656  0.000109   0.002316    0.038827   \n",
       "expenditure  1319.0  185.057071  272.218917  0.000000   4.583333  101.298300   \n",
       "dependents   1319.0    0.993935    1.247745  0.000000   0.000000    1.000000   \n",
       "months       1319.0   55.267627   66.271746  0.000000  12.000000   30.000000   \n",
       "majorcards   1319.0    0.817286    0.386579  0.000000   1.000000    1.000000   \n",
       "active       1319.0    6.996967    6.305812  0.000000   2.000000    6.000000   \n",
       "\n",
       "                    75%         max  \n",
       "reports        0.000000    14.00000  \n",
       "age           39.416670    83.50000  \n",
       "income         4.000000    13.50000  \n",
       "share          0.093617     0.90632  \n",
       "expenditure  249.035800  3099.50500  \n",
       "dependents     2.000000     6.00000  \n",
       "months        72.000000   540.00000  \n",
       "majorcards     1.000000     1.00000  \n",
       "active        11.000000    46.00000  "
      ]
     },
     "execution_count": 39,
     "metadata": {},
     "output_type": "execute_result"
    }
   ],
   "source": [
    "cr.describe().T"
   ]
  },
  {
   "cell_type": "markdown",
   "id": "de727d98",
   "metadata": {},
   "source": [
    "### How many missing values are there if any?"
   ]
  },
  {
   "cell_type": "code",
   "execution_count": 11,
   "id": "a3b89662",
   "metadata": {},
   "outputs": [
    {
     "data": {
      "text/html": [
       "<div>\n",
       "<style scoped>\n",
       "    .dataframe tbody tr th:only-of-type {\n",
       "        vertical-align: middle;\n",
       "    }\n",
       "\n",
       "    .dataframe tbody tr th {\n",
       "        vertical-align: top;\n",
       "    }\n",
       "\n",
       "    .dataframe thead th {\n",
       "        text-align: right;\n",
       "    }\n",
       "</style>\n",
       "<table border=\"1\" class=\"dataframe\">\n",
       "  <thead>\n",
       "    <tr style=\"text-align: right;\">\n",
       "      <th></th>\n",
       "      <th>card</th>\n",
       "      <th>reports</th>\n",
       "      <th>age</th>\n",
       "      <th>income</th>\n",
       "      <th>share</th>\n",
       "      <th>expenditure</th>\n",
       "      <th>owner</th>\n",
       "      <th>selfemp</th>\n",
       "      <th>dependents</th>\n",
       "      <th>months</th>\n",
       "      <th>majorcards</th>\n",
       "      <th>active</th>\n",
       "    </tr>\n",
       "  </thead>\n",
       "  <tbody>\n",
       "    <tr>\n",
       "      <th>0</th>\n",
       "      <td>False</td>\n",
       "      <td>False</td>\n",
       "      <td>False</td>\n",
       "      <td>False</td>\n",
       "      <td>False</td>\n",
       "      <td>False</td>\n",
       "      <td>False</td>\n",
       "      <td>False</td>\n",
       "      <td>False</td>\n",
       "      <td>False</td>\n",
       "      <td>False</td>\n",
       "      <td>False</td>\n",
       "    </tr>\n",
       "    <tr>\n",
       "      <th>1</th>\n",
       "      <td>False</td>\n",
       "      <td>False</td>\n",
       "      <td>False</td>\n",
       "      <td>False</td>\n",
       "      <td>False</td>\n",
       "      <td>False</td>\n",
       "      <td>False</td>\n",
       "      <td>False</td>\n",
       "      <td>False</td>\n",
       "      <td>False</td>\n",
       "      <td>False</td>\n",
       "      <td>False</td>\n",
       "    </tr>\n",
       "    <tr>\n",
       "      <th>2</th>\n",
       "      <td>False</td>\n",
       "      <td>False</td>\n",
       "      <td>False</td>\n",
       "      <td>False</td>\n",
       "      <td>False</td>\n",
       "      <td>False</td>\n",
       "      <td>False</td>\n",
       "      <td>False</td>\n",
       "      <td>False</td>\n",
       "      <td>False</td>\n",
       "      <td>False</td>\n",
       "      <td>False</td>\n",
       "    </tr>\n",
       "    <tr>\n",
       "      <th>3</th>\n",
       "      <td>False</td>\n",
       "      <td>False</td>\n",
       "      <td>False</td>\n",
       "      <td>False</td>\n",
       "      <td>False</td>\n",
       "      <td>False</td>\n",
       "      <td>False</td>\n",
       "      <td>False</td>\n",
       "      <td>False</td>\n",
       "      <td>False</td>\n",
       "      <td>False</td>\n",
       "      <td>False</td>\n",
       "    </tr>\n",
       "    <tr>\n",
       "      <th>4</th>\n",
       "      <td>False</td>\n",
       "      <td>False</td>\n",
       "      <td>False</td>\n",
       "      <td>False</td>\n",
       "      <td>False</td>\n",
       "      <td>False</td>\n",
       "      <td>False</td>\n",
       "      <td>False</td>\n",
       "      <td>False</td>\n",
       "      <td>False</td>\n",
       "      <td>False</td>\n",
       "      <td>False</td>\n",
       "    </tr>\n",
       "    <tr>\n",
       "      <th>...</th>\n",
       "      <td>...</td>\n",
       "      <td>...</td>\n",
       "      <td>...</td>\n",
       "      <td>...</td>\n",
       "      <td>...</td>\n",
       "      <td>...</td>\n",
       "      <td>...</td>\n",
       "      <td>...</td>\n",
       "      <td>...</td>\n",
       "      <td>...</td>\n",
       "      <td>...</td>\n",
       "      <td>...</td>\n",
       "    </tr>\n",
       "    <tr>\n",
       "      <th>1314</th>\n",
       "      <td>False</td>\n",
       "      <td>False</td>\n",
       "      <td>False</td>\n",
       "      <td>False</td>\n",
       "      <td>False</td>\n",
       "      <td>False</td>\n",
       "      <td>False</td>\n",
       "      <td>False</td>\n",
       "      <td>False</td>\n",
       "      <td>False</td>\n",
       "      <td>False</td>\n",
       "      <td>False</td>\n",
       "    </tr>\n",
       "    <tr>\n",
       "      <th>1315</th>\n",
       "      <td>False</td>\n",
       "      <td>False</td>\n",
       "      <td>False</td>\n",
       "      <td>False</td>\n",
       "      <td>False</td>\n",
       "      <td>False</td>\n",
       "      <td>False</td>\n",
       "      <td>False</td>\n",
       "      <td>False</td>\n",
       "      <td>False</td>\n",
       "      <td>False</td>\n",
       "      <td>False</td>\n",
       "    </tr>\n",
       "    <tr>\n",
       "      <th>1316</th>\n",
       "      <td>False</td>\n",
       "      <td>False</td>\n",
       "      <td>False</td>\n",
       "      <td>False</td>\n",
       "      <td>False</td>\n",
       "      <td>False</td>\n",
       "      <td>False</td>\n",
       "      <td>False</td>\n",
       "      <td>False</td>\n",
       "      <td>False</td>\n",
       "      <td>False</td>\n",
       "      <td>False</td>\n",
       "    </tr>\n",
       "    <tr>\n",
       "      <th>1317</th>\n",
       "      <td>False</td>\n",
       "      <td>False</td>\n",
       "      <td>False</td>\n",
       "      <td>False</td>\n",
       "      <td>False</td>\n",
       "      <td>False</td>\n",
       "      <td>False</td>\n",
       "      <td>False</td>\n",
       "      <td>False</td>\n",
       "      <td>False</td>\n",
       "      <td>False</td>\n",
       "      <td>False</td>\n",
       "    </tr>\n",
       "    <tr>\n",
       "      <th>1318</th>\n",
       "      <td>False</td>\n",
       "      <td>False</td>\n",
       "      <td>False</td>\n",
       "      <td>False</td>\n",
       "      <td>False</td>\n",
       "      <td>False</td>\n",
       "      <td>False</td>\n",
       "      <td>False</td>\n",
       "      <td>False</td>\n",
       "      <td>False</td>\n",
       "      <td>False</td>\n",
       "      <td>False</td>\n",
       "    </tr>\n",
       "  </tbody>\n",
       "</table>\n",
       "<p>1319 rows × 12 columns</p>\n",
       "</div>"
      ],
      "text/plain": [
       "       card  reports    age  income  share  expenditure  owner  selfemp  \\\n",
       "0     False    False  False   False  False        False  False    False   \n",
       "1     False    False  False   False  False        False  False    False   \n",
       "2     False    False  False   False  False        False  False    False   \n",
       "3     False    False  False   False  False        False  False    False   \n",
       "4     False    False  False   False  False        False  False    False   \n",
       "...     ...      ...    ...     ...    ...          ...    ...      ...   \n",
       "1314  False    False  False   False  False        False  False    False   \n",
       "1315  False    False  False   False  False        False  False    False   \n",
       "1316  False    False  False   False  False        False  False    False   \n",
       "1317  False    False  False   False  False        False  False    False   \n",
       "1318  False    False  False   False  False        False  False    False   \n",
       "\n",
       "      dependents  months  majorcards  active  \n",
       "0          False   False       False   False  \n",
       "1          False   False       False   False  \n",
       "2          False   False       False   False  \n",
       "3          False   False       False   False  \n",
       "4          False   False       False   False  \n",
       "...          ...     ...         ...     ...  \n",
       "1314       False   False       False   False  \n",
       "1315       False   False       False   False  \n",
       "1316       False   False       False   False  \n",
       "1317       False   False       False   False  \n",
       "1318       False   False       False   False  \n",
       "\n",
       "[1319 rows x 12 columns]"
      ]
     },
     "execution_count": 11,
     "metadata": {},
     "output_type": "execute_result"
    }
   ],
   "source": [
    "cr.isnull()"
   ]
  },
  {
   "cell_type": "code",
   "execution_count": 12,
   "id": "e5f735c8",
   "metadata": {},
   "outputs": [
    {
     "data": {
      "text/plain": [
       "card           0\n",
       "reports        0\n",
       "age            0\n",
       "income         0\n",
       "share          0\n",
       "expenditure    0\n",
       "owner          0\n",
       "selfemp        0\n",
       "dependents     0\n",
       "months         0\n",
       "majorcards     0\n",
       "active         0\n",
       "dtype: int64"
      ]
     },
     "execution_count": 12,
     "metadata": {},
     "output_type": "execute_result"
    }
   ],
   "source": [
    "cr.isnull().sum()"
   ]
  },
  {
   "cell_type": "markdown",
   "id": "060487f6",
   "metadata": {},
   "source": [
    "### How many unique values in these variables\n",
    "\n",
    "1. card\n",
    "2. owner\n",
    "3. selfemp\n",
    "\n",
    "Hint: Give the table of each variable."
   ]
  },
  {
   "cell_type": "code",
   "execution_count": 13,
   "id": "bd9527c6",
   "metadata": {},
   "outputs": [
    {
     "data": {
      "text/plain": [
       "1317"
      ]
     },
     "execution_count": 13,
     "metadata": {},
     "output_type": "execute_result"
    }
   ],
   "source": [
    "cr['card'].duplicated().sum()"
   ]
  },
  {
   "cell_type": "code",
   "execution_count": 40,
   "id": "40058bad",
   "metadata": {},
   "outputs": [
    {
     "data": {
      "text/plain": [
       "2"
      ]
     },
     "execution_count": 40,
     "metadata": {},
     "output_type": "execute_result"
    }
   ],
   "source": [
    "cr['card'].nunique()"
   ]
  },
  {
   "cell_type": "code",
   "execution_count": 14,
   "id": "68270450",
   "metadata": {},
   "outputs": [
    {
     "data": {
      "text/plain": [
       "1317"
      ]
     },
     "execution_count": 14,
     "metadata": {},
     "output_type": "execute_result"
    }
   ],
   "source": [
    "cr['owner'].duplicated().sum()"
   ]
  },
  {
   "cell_type": "code",
   "execution_count": 15,
   "id": "31ed007f",
   "metadata": {},
   "outputs": [
    {
     "data": {
      "text/plain": [
       "1317"
      ]
     },
     "execution_count": 15,
     "metadata": {},
     "output_type": "execute_result"
    }
   ],
   "source": [
    "cr['selfemp'].duplicated().sum()"
   ]
  },
  {
   "cell_type": "markdown",
   "id": "1ae02a3b",
   "metadata": {},
   "source": [
    "### What is the Average, min, max  Age of Applicants"
   ]
  },
  {
   "cell_type": "code",
   "execution_count": 16,
   "id": "9b3a5607",
   "metadata": {},
   "outputs": [
    {
     "data": {
      "text/plain": [
       "33.21310325496592"
      ]
     },
     "execution_count": 16,
     "metadata": {},
     "output_type": "execute_result"
    }
   ],
   "source": [
    "avg_age = sum(cr['age']) / len(cr['age'])\n",
    "avg_age"
   ]
  },
  {
   "cell_type": "code",
   "execution_count": 41,
   "id": "f717f5d6",
   "metadata": {},
   "outputs": [
    {
     "data": {
      "text/plain": [
       "33.21310325496592"
      ]
     },
     "execution_count": 41,
     "metadata": {},
     "output_type": "execute_result"
    }
   ],
   "source": [
    "cr['age'].mean()"
   ]
  },
  {
   "cell_type": "code",
   "execution_count": 42,
   "id": "318e6589",
   "metadata": {},
   "outputs": [
    {
     "data": {
      "text/plain": [
       "0.1666667"
      ]
     },
     "execution_count": 42,
     "metadata": {},
     "output_type": "execute_result"
    }
   ],
   "source": [
    "cr['age'].min()"
   ]
  },
  {
   "cell_type": "code",
   "execution_count": 43,
   "id": "65ba3864",
   "metadata": {},
   "outputs": [
    {
     "data": {
      "text/plain": [
       "83.5"
      ]
     },
     "execution_count": 43,
     "metadata": {},
     "output_type": "execute_result"
    }
   ],
   "source": [
    "cr['age'].max()"
   ]
  },
  {
   "cell_type": "code",
   "execution_count": 17,
   "id": "c37bfd8f",
   "metadata": {},
   "outputs": [
    {
     "data": {
      "text/plain": [
       "33.21310325496588"
      ]
     },
     "execution_count": 17,
     "metadata": {},
     "output_type": "execute_result"
    }
   ],
   "source": [
    "import statistics\n",
    "statistics.mean(cr['age'])"
   ]
  },
  {
   "cell_type": "code",
   "execution_count": 18,
   "id": "b747cef7",
   "metadata": {},
   "outputs": [
    {
     "data": {
      "text/plain": [
       "83.5"
      ]
     },
     "execution_count": 18,
     "metadata": {},
     "output_type": "execute_result"
    }
   ],
   "source": [
    "max_age= max(cr['age'])\n",
    "max_age"
   ]
  },
  {
   "cell_type": "code",
   "execution_count": 19,
   "id": "4e36b1a3",
   "metadata": {},
   "outputs": [
    {
     "data": {
      "text/plain": [
       "0.1666667"
      ]
     },
     "execution_count": 19,
     "metadata": {},
     "output_type": "execute_result"
    }
   ],
   "source": [
    "min_age= min(cr['age'])\n",
    "min_age"
   ]
  },
  {
   "cell_type": "markdown",
   "id": "d29b0045",
   "metadata": {},
   "source": [
    "### What is the Average, min, max  Income of Applicants"
   ]
  },
  {
   "cell_type": "code",
   "execution_count": 20,
   "id": "1acbd38d",
   "metadata": {},
   "outputs": [
    {
     "data": {
      "text/plain": [
       "3.3653760424564063"
      ]
     },
     "execution_count": 20,
     "metadata": {},
     "output_type": "execute_result"
    }
   ],
   "source": [
    "statistics.mean(cr['income'])"
   ]
  },
  {
   "cell_type": "code",
   "execution_count": 21,
   "id": "48be3ac4",
   "metadata": {},
   "outputs": [
    {
     "data": {
      "text/plain": [
       "13.5"
      ]
     },
     "execution_count": 21,
     "metadata": {},
     "output_type": "execute_result"
    }
   ],
   "source": [
    "max_income= max(cr['income'])\n",
    "max_income"
   ]
  },
  {
   "cell_type": "code",
   "execution_count": 22,
   "id": "9906f5be",
   "metadata": {},
   "outputs": [
    {
     "data": {
      "text/plain": [
       "0.21"
      ]
     },
     "execution_count": 22,
     "metadata": {},
     "output_type": "execute_result"
    }
   ],
   "source": [
    "min_income= min(cr['income'])\n",
    "min_income"
   ]
  },
  {
   "cell_type": "markdown",
   "id": "60fb1411",
   "metadata": {},
   "source": [
    "### What is the Highest Income, and how old is this person?\n",
    "\n",
    "Hint: use **idxmax** "
   ]
  },
  {
   "cell_type": "code",
   "execution_count": 23,
   "id": "e171ff9c",
   "metadata": {},
   "outputs": [
    {
     "data": {
      "text/plain": [
       "113"
      ]
     },
     "execution_count": 23,
     "metadata": {},
     "output_type": "execute_result"
    }
   ],
   "source": [
    "cr['income'].idxmax()"
   ]
  },
  {
   "cell_type": "code",
   "execution_count": 45,
   "id": "10ff20e3",
   "metadata": {},
   "outputs": [
    {
     "data": {
      "text/plain": [
       "45.58333"
      ]
     },
     "execution_count": 45,
     "metadata": {},
     "output_type": "execute_result"
    }
   ],
   "source": [
    "cr.iloc[113,2]"
   ]
  },
  {
   "cell_type": "code",
   "execution_count": 24,
   "id": "6db685c2",
   "metadata": {},
   "outputs": [
    {
     "data": {
      "text/plain": [
       "113    45.58333\n",
       "Name: age, dtype: float64"
      ]
     },
     "execution_count": 24,
     "metadata": {},
     "output_type": "execute_result"
    }
   ],
   "source": [
    "cr[cr['income'] == 13.5 ]['age']"
   ]
  },
  {
   "cell_type": "code",
   "execution_count": 47,
   "id": "ab3fc99d",
   "metadata": {},
   "outputs": [
    {
     "data": {
      "text/plain": [
       "45.58333"
      ]
     },
     "execution_count": 47,
     "metadata": {},
     "output_type": "execute_result"
    }
   ],
   "source": [
    "cr['age'].iloc[113]"
   ]
  },
  {
   "cell_type": "code",
   "execution_count": 46,
   "id": "b5db5238",
   "metadata": {},
   "outputs": [
    {
     "data": {
      "text/plain": [
       "113    45.58333\n",
       "Name: age, dtype: float64"
      ]
     },
     "execution_count": 46,
     "metadata": {},
     "output_type": "execute_result"
    }
   ],
   "source": [
    "cr[cr['income'] == cr['income'].max()]['age']"
   ]
  },
  {
   "cell_type": "markdown",
   "id": "c8b1f767",
   "metadata": {},
   "source": [
    "### What is the average income by card?\n",
    "\n",
    "Hint: use groupby function."
   ]
  },
  {
   "cell_type": "code",
   "execution_count": 25,
   "id": "eeb59f81",
   "metadata": {},
   "outputs": [
    {
     "data": {
      "text/plain": [
       "card\n",
       "no     3.068509\n",
       "yes    3.451273\n",
       "Name: income, dtype: float64"
      ]
     },
     "execution_count": 25,
     "metadata": {},
     "output_type": "execute_result"
    }
   ],
   "source": [
    "cr.groupby('card').mean() ['income']"
   ]
  },
  {
   "cell_type": "code",
   "execution_count": 50,
   "id": "ee4f0a29",
   "metadata": {},
   "outputs": [
    {
     "data": {
      "text/plain": [
       "card\n",
       "no     3.068509\n",
       "yes    3.451273\n",
       "Name: income, dtype: float64"
      ]
     },
     "execution_count": 50,
     "metadata": {},
     "output_type": "execute_result"
    }
   ],
   "source": [
    "cr.groupby('card')['income'].mean() "
   ]
  },
  {
   "cell_type": "markdown",
   "id": "591bd335",
   "metadata": {},
   "source": [
    "### What is the average expenditure by owner and selfemp?"
   ]
  },
  {
   "cell_type": "code",
   "execution_count": 51,
   "id": "c07bf800",
   "metadata": {},
   "outputs": [
    {
     "data": {
      "text/plain": [
       "owner  selfemp\n",
       "no     no         163.119629\n",
       "       yes        153.723849\n",
       "yes    no         219.638257\n",
       "       yes        145.416488\n",
       "Name: expenditure, dtype: float64"
      ]
     },
     "execution_count": 51,
     "metadata": {},
     "output_type": "execute_result"
    }
   ],
   "source": [
    "cr.groupby(['owner', 'selfemp'])['expenditure'].mean() "
   ]
  },
  {
   "cell_type": "markdown",
   "id": "7f03d7a1",
   "metadata": {},
   "source": [
    "## Advanced Section"
   ]
  },
  {
   "cell_type": "markdown",
   "id": "5a7d9f41",
   "metadata": {},
   "source": [
    "### 1. Change The columns name to uppercase"
   ]
  },
  {
   "cell_type": "code",
   "execution_count": 53,
   "id": "833f6864",
   "metadata": {},
   "outputs": [],
   "source": [
    "cr.rename(columns= str.upper, inplace= True)"
   ]
  },
  {
   "cell_type": "code",
   "execution_count": 54,
   "id": "b4e21d5d",
   "metadata": {},
   "outputs": [
    {
     "data": {
      "text/html": [
       "<div>\n",
       "<style scoped>\n",
       "    .dataframe tbody tr th:only-of-type {\n",
       "        vertical-align: middle;\n",
       "    }\n",
       "\n",
       "    .dataframe tbody tr th {\n",
       "        vertical-align: top;\n",
       "    }\n",
       "\n",
       "    .dataframe thead th {\n",
       "        text-align: right;\n",
       "    }\n",
       "</style>\n",
       "<table border=\"1\" class=\"dataframe\">\n",
       "  <thead>\n",
       "    <tr style=\"text-align: right;\">\n",
       "      <th></th>\n",
       "      <th>CARD</th>\n",
       "      <th>REPORTS</th>\n",
       "      <th>AGE</th>\n",
       "      <th>INCOME</th>\n",
       "      <th>SHARE</th>\n",
       "      <th>EXPENDITURE</th>\n",
       "      <th>OWNER</th>\n",
       "      <th>SELFEMP</th>\n",
       "      <th>DEPENDENTS</th>\n",
       "      <th>MONTHS</th>\n",
       "      <th>MAJORCARDS</th>\n",
       "      <th>ACTIVE</th>\n",
       "    </tr>\n",
       "  </thead>\n",
       "  <tbody>\n",
       "    <tr>\n",
       "      <th>0</th>\n",
       "      <td>yes</td>\n",
       "      <td>0</td>\n",
       "      <td>37.66667</td>\n",
       "      <td>4.5200</td>\n",
       "      <td>0.033270</td>\n",
       "      <td>124.983300</td>\n",
       "      <td>yes</td>\n",
       "      <td>no</td>\n",
       "      <td>3</td>\n",
       "      <td>54</td>\n",
       "      <td>1</td>\n",
       "      <td>12</td>\n",
       "    </tr>\n",
       "    <tr>\n",
       "      <th>1</th>\n",
       "      <td>yes</td>\n",
       "      <td>0</td>\n",
       "      <td>33.25000</td>\n",
       "      <td>2.4200</td>\n",
       "      <td>0.005217</td>\n",
       "      <td>9.854167</td>\n",
       "      <td>no</td>\n",
       "      <td>no</td>\n",
       "      <td>3</td>\n",
       "      <td>34</td>\n",
       "      <td>1</td>\n",
       "      <td>13</td>\n",
       "    </tr>\n",
       "    <tr>\n",
       "      <th>2</th>\n",
       "      <td>yes</td>\n",
       "      <td>0</td>\n",
       "      <td>33.66667</td>\n",
       "      <td>4.5000</td>\n",
       "      <td>0.004156</td>\n",
       "      <td>15.000000</td>\n",
       "      <td>yes</td>\n",
       "      <td>no</td>\n",
       "      <td>4</td>\n",
       "      <td>58</td>\n",
       "      <td>1</td>\n",
       "      <td>5</td>\n",
       "    </tr>\n",
       "    <tr>\n",
       "      <th>3</th>\n",
       "      <td>yes</td>\n",
       "      <td>0</td>\n",
       "      <td>30.50000</td>\n",
       "      <td>2.5400</td>\n",
       "      <td>0.065214</td>\n",
       "      <td>137.869200</td>\n",
       "      <td>no</td>\n",
       "      <td>no</td>\n",
       "      <td>0</td>\n",
       "      <td>25</td>\n",
       "      <td>1</td>\n",
       "      <td>7</td>\n",
       "    </tr>\n",
       "    <tr>\n",
       "      <th>4</th>\n",
       "      <td>yes</td>\n",
       "      <td>0</td>\n",
       "      <td>32.16667</td>\n",
       "      <td>9.7867</td>\n",
       "      <td>0.067051</td>\n",
       "      <td>546.503300</td>\n",
       "      <td>yes</td>\n",
       "      <td>no</td>\n",
       "      <td>2</td>\n",
       "      <td>64</td>\n",
       "      <td>1</td>\n",
       "      <td>5</td>\n",
       "    </tr>\n",
       "  </tbody>\n",
       "</table>\n",
       "</div>"
      ],
      "text/plain": [
       "  CARD  REPORTS       AGE  INCOME     SHARE  EXPENDITURE OWNER SELFEMP  \\\n",
       "0  yes        0  37.66667  4.5200  0.033270   124.983300   yes      no   \n",
       "1  yes        0  33.25000  2.4200  0.005217     9.854167    no      no   \n",
       "2  yes        0  33.66667  4.5000  0.004156    15.000000   yes      no   \n",
       "3  yes        0  30.50000  2.5400  0.065214   137.869200    no      no   \n",
       "4  yes        0  32.16667  9.7867  0.067051   546.503300   yes      no   \n",
       "\n",
       "   DEPENDENTS  MONTHS  MAJORCARDS  ACTIVE  \n",
       "0           3      54           1      12  \n",
       "1           3      34           1      13  \n",
       "2           4      58           1       5  \n",
       "3           0      25           1       7  \n",
       "4           2      64           1       5  "
      ]
     },
     "execution_count": 54,
     "metadata": {},
     "output_type": "execute_result"
    }
   ],
   "source": [
    "cr.head()"
   ]
  },
  {
   "cell_type": "code",
   "execution_count": null,
   "id": "77dbb97e",
   "metadata": {},
   "outputs": [],
   "source": [
    "#cr.rename(columns = str.lower, inplace= True)"
   ]
  },
  {
   "cell_type": "code",
   "execution_count": 27,
   "id": "90e2c086",
   "metadata": {},
   "outputs": [
    {
     "data": {
      "text/plain": [
       "Index(['card', 'reports', 'age', 'income', 'share', 'expenditure', 'owner',\n",
       "       'selfemp', 'dependents', 'months', 'majorcards', 'active'],\n",
       "      dtype='object')"
      ]
     },
     "execution_count": 27,
     "metadata": {},
     "output_type": "execute_result"
    }
   ],
   "source": [
    "cr.columns"
   ]
  },
  {
   "cell_type": "code",
   "execution_count": 28,
   "id": "21253111",
   "metadata": {},
   "outputs": [],
   "source": [
    "crColumns = cr.columns.str.upper()"
   ]
  },
  {
   "cell_type": "code",
   "execution_count": 29,
   "id": "1afcbe80",
   "metadata": {},
   "outputs": [
    {
     "data": {
      "text/plain": [
       "Index(['CARD', 'REPORTS', 'AGE', 'INCOME', 'SHARE', 'EXPENDITURE', 'OWNER',\n",
       "       'SELFEMP', 'DEPENDENTS', 'MONTHS', 'MAJORCARDS', 'ACTIVE'],\n",
       "      dtype='object')"
      ]
     },
     "execution_count": 29,
     "metadata": {},
     "output_type": "execute_result"
    }
   ],
   "source": [
    "crColumns"
   ]
  },
  {
   "cell_type": "code",
   "execution_count": 30,
   "id": "6b7107b8",
   "metadata": {},
   "outputs": [
    {
     "data": {
      "text/plain": [
       "Index(['CARD', 'REPORTS', 'AGE', 'INCOME', 'SHARE', 'EXPENDITURE', 'OWNER',\n",
       "       'SELFEMP', 'DEPENDENTS', 'MONTHS', 'MAJORCARDS', 'ACTIVE'],\n",
       "      dtype='object')"
      ]
     },
     "execution_count": 30,
     "metadata": {},
     "output_type": "execute_result"
    }
   ],
   "source": [
    "cr_olumns = cr.columns.map(lambda x: x.upper())\n",
    "cr_olumns"
   ]
  },
  {
   "cell_type": "markdown",
   "id": "d7e4106e",
   "metadata": {},
   "source": [
    "### 2. Apply the following functions as follows:\n",
    "\n",
    "   2.1. min, max, mean, median, std for the numeric variables.\n",
    "   \n",
    "   2.2. apply the count function to categorical variables."
   ]
  },
  {
   "cell_type": "code",
   "execution_count": 31,
   "id": "f30821e8",
   "metadata": {},
   "outputs": [
    {
     "data": {
      "text/plain": [
       "reports          0.456406\n",
       "age             33.213103\n",
       "income           3.365376\n",
       "share            0.068732\n",
       "expenditure    185.057071\n",
       "dependents       0.993935\n",
       "months          55.267627\n",
       "majorcards       0.817286\n",
       "active           6.996967\n",
       "dtype: float64"
      ]
     },
     "execution_count": 31,
     "metadata": {},
     "output_type": "execute_result"
    }
   ],
   "source": [
    "cr[['reports', 'age','income', 'share', 'expenditure', 'dependents' , 'months',\n",
    "   'majorcards', 'active']].mean()"
   ]
  },
  {
   "cell_type": "code",
   "execution_count": 32,
   "id": "d140dde9",
   "metadata": {},
   "outputs": [
    {
     "data": {
      "text/plain": [
       "reports          0.456406\n",
       "age             33.213103\n",
       "income           3.365376\n",
       "share            0.068732\n",
       "expenditure    185.057071\n",
       "dependents       0.993935\n",
       "months          55.267627\n",
       "majorcards       0.817286\n",
       "active           6.996967\n",
       "dtype: float64"
      ]
     },
     "execution_count": 32,
     "metadata": {},
     "output_type": "execute_result"
    }
   ],
   "source": [
    "cr.iloc[:, np.r_[1:6, 8:12 ]] .mean()"
   ]
  },
  {
   "cell_type": "code",
   "execution_count": 33,
   "id": "e7eed747",
   "metadata": {},
   "outputs": [
    {
     "data": {
      "text/plain": [
       "reports        0.000000\n",
       "age            0.166667\n",
       "income         0.210000\n",
       "share          0.000109\n",
       "expenditure    0.000000\n",
       "dependents     0.000000\n",
       "months         0.000000\n",
       "majorcards     0.000000\n",
       "active         0.000000\n",
       "dtype: float64"
      ]
     },
     "execution_count": 33,
     "metadata": {},
     "output_type": "execute_result"
    }
   ],
   "source": [
    "cr.iloc[:, np.r_[1:6, 8:12 ]] .min()"
   ]
  },
  {
   "cell_type": "code",
   "execution_count": 34,
   "id": "430b435e",
   "metadata": {},
   "outputs": [
    {
     "data": {
      "text/plain": [
       "reports          14.00000\n",
       "age              83.50000\n",
       "income           13.50000\n",
       "share             0.90632\n",
       "expenditure    3099.50500\n",
       "dependents        6.00000\n",
       "months          540.00000\n",
       "majorcards        1.00000\n",
       "active           46.00000\n",
       "dtype: float64"
      ]
     },
     "execution_count": 34,
     "metadata": {},
     "output_type": "execute_result"
    }
   ],
   "source": [
    "cr.iloc[:, np.r_[1:6, 8:12 ]] .max()"
   ]
  },
  {
   "cell_type": "code",
   "execution_count": 35,
   "id": "ef5c1fd6",
   "metadata": {},
   "outputs": [
    {
     "data": {
      "text/plain": [
       "reports          0.000000\n",
       "age             31.250000\n",
       "income           2.900000\n",
       "share            0.038827\n",
       "expenditure    101.298300\n",
       "dependents       1.000000\n",
       "months          30.000000\n",
       "majorcards       1.000000\n",
       "active           6.000000\n",
       "dtype: float64"
      ]
     },
     "execution_count": 35,
     "metadata": {},
     "output_type": "execute_result"
    }
   ],
   "source": [
    "cr.iloc[:, np.r_[1:6, 8:12 ]] .median()"
   ]
  },
  {
   "cell_type": "code",
   "execution_count": 36,
   "id": "e1920afb",
   "metadata": {},
   "outputs": [
    {
     "data": {
      "text/plain": [
       "reports          1.345267\n",
       "age             10.142783\n",
       "income           1.693902\n",
       "share            0.094656\n",
       "expenditure    272.218917\n",
       "dependents       1.247745\n",
       "months          66.271746\n",
       "majorcards       0.386579\n",
       "active           6.305812\n",
       "dtype: float64"
      ]
     },
     "execution_count": 36,
     "metadata": {},
     "output_type": "execute_result"
    }
   ],
   "source": [
    "cr.iloc[:, np.r_[1:6, 8:12 ]] .std()"
   ]
  },
  {
   "cell_type": "code",
   "execution_count": 37,
   "id": "e5d3df24",
   "metadata": {},
   "outputs": [
    {
     "data": {
      "text/plain": [
       "expenditure    1319\n",
       "owner          1319\n",
       "selfemp        1319\n",
       "dtype: int64"
      ]
     },
     "execution_count": 37,
     "metadata": {},
     "output_type": "execute_result"
    }
   ],
   "source": [
    "cr.iloc[:, np.r_[5:8]] .count()"
   ]
  },
  {
   "cell_type": "markdown",
   "id": "15009aed",
   "metadata": {},
   "source": [
    "# Best of luck"
   ]
  }
 ],
 "metadata": {
  "kernelspec": {
   "display_name": "Python 3",
   "language": "python",
   "name": "python3"
  },
  "language_info": {
   "codemirror_mode": {
    "name": "ipython",
    "version": 3
   },
   "file_extension": ".py",
   "mimetype": "text/x-python",
   "name": "python",
   "nbconvert_exporter": "python",
   "pygments_lexer": "ipython3",
   "version": "3.8.8"
  }
 },
 "nbformat": 4,
 "nbformat_minor": 5
}
